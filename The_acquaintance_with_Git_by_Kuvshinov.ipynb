{
  "nbformat": 4,
  "nbformat_minor": 0,
  "metadata": {
    "colab": {
      "name": "The acquaintance with Git by Kuvshinov.ipynb",
      "provenance": [],
      "collapsed_sections": [],
      "toc_visible": true,
      "authorship_tag": "ABX9TyNiR1APBra+XgZWOSYYfPQx",
      "include_colab_link": true
    },
    "kernelspec": {
      "name": "python3",
      "display_name": "Python 3"
    }
  },
  "cells": [
    {
      "cell_type": "markdown",
      "metadata": {
        "id": "view-in-github",
        "colab_type": "text"
      },
      "source": [
        "<a href=\"https://colab.research.google.com/github/AlexChanin/learn-git/blob/main/The_acquaintance_with_Git_by_Kuvshinov.ipynb\" target=\"_parent\"><img src=\"https://colab.research.google.com/assets/colab-badge.svg\" alt=\"Open In Colab\"/></a>"
      ]
    },
    {
      "cell_type": "markdown",
      "metadata": {
        "id": "iGFzWmMsYuV5"
      },
      "source": [
        "### Знакомство с Git с Евгением Кувшиновым"
      ]
    },
    {
      "cell_type": "markdown",
      "metadata": {
        "id": "UChQ-Yq8F920"
      },
      "source": [
        "Проверка установки"
      ]
    },
    {
      "cell_type": "code",
      "metadata": {
        "colab": {
          "base_uri": "https://localhost:8080/"
        },
        "id": "6PDc5i_SF4jG",
        "outputId": "e3384604-cc35-4fc4-92dd-ee47f43868f7"
      },
      "source": [
        "!git --version"
      ],
      "execution_count": null,
      "outputs": [
        {
          "output_type": "stream",
          "text": [
            "git version 2.17.1\n"
          ],
          "name": "stdout"
        }
      ]
    },
    {
      "cell_type": "markdown",
      "metadata": {
        "id": "mgp9xT89GFoG"
      },
      "source": [
        "### Конфигурация Git\n",
        "\n",
        "1. Системная (system, на уровне ОС)\n",
        "2. Глобальная (global, на уровне пользователя ОС)\n",
        "3. Локальная (local, или на уровне репозитория)\n",
        "\n",
        "Расположение конфиг-файлов\n",
        "1. В папке с установленным git или в /etc в Linux\n",
        "2. В домашней папке пользователя, файл .gitconfig\n",
        "3. В папке с репозиторием .git/config"
      ]
    },
    {
      "cell_type": "markdown",
      "metadata": {
        "id": "0vANo7uyLXID"
      },
      "source": [
        "Базовая настройка Git:"
      ]
    },
    {
      "cell_type": "code",
      "metadata": {
        "id": "8pdQY9A-LJil"
      },
      "source": [
        "!git config --global user.name \"AlexChanin\"\n",
        "!git config --global user.email \"web.shore@yahoo.com\"\n",
        "#!git config --global core.editor \"Путь\"\n",
        "# vim .gitconfig"
      ],
      "execution_count": null,
      "outputs": []
    },
    {
      "cell_type": "markdown",
      "metadata": {
        "id": "x8DcVNJvMZRK"
      },
      "source": [
        "Создание репозитория в папке folder1"
      ]
    },
    {
      "cell_type": "code",
      "metadata": {
        "colab": {
          "base_uri": "https://localhost:8080/"
        },
        "id": "1bRGxdYrQNB9",
        "outputId": "5ea3877b-bc0b-4fdf-9989-53cca76b2260"
      },
      "source": [
        "!pwd\n",
        "!ls"
      ],
      "execution_count": null,
      "outputs": [
        {
          "output_type": "stream",
          "text": [
            "/content\n",
            "sample_data\n"
          ],
          "name": "stdout"
        }
      ]
    },
    {
      "cell_type": "code",
      "metadata": {
        "id": "X5ga1cEdQcUa",
        "colab": {
          "base_uri": "https://localhost:8080/"
        },
        "outputId": "753bbd64-59e3-44d0-fe35-f60ab1c2132e"
      },
      "source": [
        "%mkdir learn_git\n",
        "%cd ./learn_git\n",
        "%mkdir folder1\n",
        "%cd ./folder1"
      ],
      "execution_count": null,
      "outputs": [
        {
          "output_type": "stream",
          "text": [
            "/content/learn_git\n",
            "/content/learn_git/folder1\n"
          ],
          "name": "stdout"
        }
      ]
    },
    {
      "cell_type": "code",
      "metadata": {
        "colab": {
          "base_uri": "https://localhost:8080/"
        },
        "id": "55R-SucFb2_w",
        "outputId": "e28de00a-dc51-49db-bef3-a22a9662c6f6"
      },
      "source": [
        "!git init\n",
        "# в папке folder1 появилась папка .git,\n",
        "# в которой Гит хранит все свои параметры касательно данного репозитория."
      ],
      "execution_count": null,
      "outputs": [
        {
          "output_type": "stream",
          "text": [
            "Initialized empty Git repository in /content/learn_git/folder1/.git/\n"
          ],
          "name": "stdout"
        }
      ]
    },
    {
      "cell_type": "code",
      "metadata": {
        "colab": {
          "base_uri": "https://localhost:8080/"
        },
        "id": "zJPddoHDb9UP",
        "outputId": "3b2ad35d-ecac-4dcc-f6f2-b6c1e0bdc94d"
      },
      "source": [
        "!git status # проверка статуса гит-репозитория\n",
        "# Голова на ветке master\n",
        "# Коммитов нет. Коммитить нечего"
      ],
      "execution_count": null,
      "outputs": [
        {
          "output_type": "stream",
          "text": [
            "On branch master\n",
            "\n",
            "No commits yet\n",
            "\n",
            "nothing to commit (create/copy files and use \"git add\" to track)\n"
          ],
          "name": "stdout"
        }
      ]
    },
    {
      "cell_type": "markdown",
      "metadata": {
        "id": "ejP3-dHicfMG"
      },
      "source": [
        "Создание файла в репозитории"
      ]
    },
    {
      "cell_type": "code",
      "metadata": {
        "colab": {
          "base_uri": "https://localhost:8080/"
        },
        "id": "9Urln_KCY4w9",
        "outputId": "36907893-d9ce-4d47-dc63-4049e47d7508"
      },
      "source": [
        "!echo 'Hi!' > file.md\n",
        "!cat file.md"
      ],
      "execution_count": null,
      "outputs": [
        {
          "output_type": "stream",
          "text": [
            "Hi!\n"
          ],
          "name": "stdout"
        }
      ]
    },
    {
      "cell_type": "code",
      "metadata": {
        "colab": {
          "base_uri": "https://localhost:8080/"
        },
        "id": "25xFgLPlRN7O",
        "outputId": "c92f1b95-1316-41aa-d07a-42bfe454ac15"
      },
      "source": [
        "!git status # проверка статуса гит-репозитория\n",
        "# Голова на ветке master\n",
        "# Коммитов нет. Есть неотслеживаемый файл file.md"
      ],
      "execution_count": null,
      "outputs": [
        {
          "output_type": "stream",
          "text": [
            "On branch master\n",
            "\n",
            "No commits yet\n",
            "\n",
            "Untracked files:\n",
            "  (use \"git add <file>...\" to include in what will be committed)\n",
            "\n",
            "\t\u001b[31mfile.md\u001b[m\n",
            "\n",
            "nothing added to commit but untracked files present (use \"git add\" to track)\n"
          ],
          "name": "stdout"
        }
      ]
    },
    {
      "cell_type": "markdown",
      "metadata": {
        "id": "HOi93wCDc8Dr"
      },
      "source": [
        "В Гите есть папки и файлы разных категорий: неотлеживаемые, отслеживаемые, игнорируемые.\n",
        "\n",
        "Попробуем последовать рекомендации Гита и добавить файл file.md в остлеживаемые"
      ]
    },
    {
      "cell_type": "code",
      "metadata": {
        "id": "zS3MgWtQMcDW"
      },
      "source": [
        "!git add file.md # добавление статуса отслеживаемый в данном репозитории"
      ],
      "execution_count": null,
      "outputs": []
    },
    {
      "cell_type": "code",
      "metadata": {
        "colab": {
          "base_uri": "https://localhost:8080/"
        },
        "id": "n0YULqWPM9FF",
        "outputId": "12abdc7c-5fe4-4230-8cde-44a6ac6d90f9"
      },
      "source": [
        "!git status # проверка статуса гит-репозитория\n",
        "# Голова на ветке master\n",
        "# Коммитов нет. Есть изменения, которые будут включены в коммит\n",
        "# это новый отслеживаемый файл file.md"
      ],
      "execution_count": null,
      "outputs": [
        {
          "output_type": "stream",
          "text": [
            "On branch master\n",
            "\n",
            "No commits yet\n",
            "\n",
            "Changes to be committed:\n",
            "  (use \"git rm --cached <file>...\" to unstage)\n",
            "\n",
            "\t\u001b[32mnew file:   file.md\u001b[m\n",
            "\n"
          ],
          "name": "stdout"
        }
      ]
    },
    {
      "cell_type": "markdown",
      "metadata": {
        "id": "_EC7JUaSeRTA"
      },
      "source": [
        "Чтобы отменить отслеживание и убрать этот файл из индекса, надо последовать рекомендации Гита и вывести из игры unstage"
      ]
    },
    {
      "cell_type": "code",
      "metadata": {
        "id": "8bkDkbprNa26",
        "colab": {
          "base_uri": "https://localhost:8080/"
        },
        "outputId": "bc5e3e8f-61fd-4361-d677-88630ce38a72"
      },
      "source": [
        "!git rm --cached file.md"
      ],
      "execution_count": null,
      "outputs": [
        {
          "output_type": "stream",
          "text": [
            "rm 'file.md'\n"
          ],
          "name": "stdout"
        }
      ]
    },
    {
      "cell_type": "code",
      "metadata": {
        "colab": {
          "base_uri": "https://localhost:8080/"
        },
        "id": "BkdsoS-afOD0",
        "outputId": "134f2c75-2003-48ff-a290-cee11fb99d39"
      },
      "source": [
        "!git status # проверка статуса гит-репозитория\n",
        "# Голова на ветке master\n",
        "# Коммитов нет. Есть неотслеживаемый файл file.md"
      ],
      "execution_count": null,
      "outputs": [
        {
          "output_type": "stream",
          "text": [
            "On branch master\n",
            "\n",
            "No commits yet\n",
            "\n",
            "Untracked files:\n",
            "  (use \"git add <file>...\" to include in what will be committed)\n",
            "\n",
            "\t\u001b[31mfile.md\u001b[m\n",
            "\n",
            "nothing added to commit but untracked files present (use \"git add\" to track)\n"
          ],
          "name": "stdout"
        }
      ]
    },
    {
      "cell_type": "code",
      "metadata": {
        "id": "DpF8Smu7fGpE"
      },
      "source": [
        "# Вернем всё же файл в отслеживаемые и закоммитим изменение файла. \n",
        "# Обычно коммитят важное изменение в программе.\n",
        "# После коммита файл как-бы меняет версию, все версии находятся на ветке master.\n",
        "# Такой подход делает возможным откат на требуемую версию и контроль за всеми версиями."
      ],
      "execution_count": null,
      "outputs": []
    },
    {
      "cell_type": "code",
      "metadata": {
        "colab": {
          "base_uri": "https://localhost:8080/"
        },
        "id": "GdJRk4KAOK2G",
        "outputId": "d6ee2858-e79c-4082-cee6-440c82c258dc"
      },
      "source": [
        "!git add file.md\n",
        "!git status"
      ],
      "execution_count": null,
      "outputs": [
        {
          "output_type": "stream",
          "text": [
            "On branch master\n",
            "\n",
            "No commits yet\n",
            "\n",
            "Changes to be committed:\n",
            "  (use \"git rm --cached <file>...\" to unstage)\n",
            "\n",
            "\t\u001b[32mnew file:   file.md\u001b[m\n",
            "\n"
          ],
          "name": "stdout"
        }
      ]
    },
    {
      "cell_type": "markdown",
      "metadata": {
        "id": "3vhnmVCmjM6q"
      },
      "source": [
        "Закоммичивание первого важного изменения файла"
      ]
    },
    {
      "cell_type": "code",
      "metadata": {
        "id": "ygDIUOoDOoxE",
        "colab": {
          "base_uri": "https://localhost:8080/"
        },
        "outputId": "3d483ee5-3908-47f3-d94e-e1a8ecb2470b"
      },
      "source": [
        "!git commit -m 'message_1'\n",
        " # 'c05a9ba' - это начало хэш-суммы данного коммита.\n",
        " # Структура гита репозитория ключ-значение"
      ],
      "execution_count": null,
      "outputs": [
        {
          "output_type": "stream",
          "text": [
            "[master (root-commit) c05a9ba] message_1\n",
            " 1 file changed, 1 insertion(+)\n",
            " create mode 100644 file.md\n"
          ],
          "name": "stdout"
        }
      ]
    },
    {
      "cell_type": "code",
      "metadata": {
        "colab": {
          "base_uri": "https://localhost:8080/"
        },
        "id": "ByIIqAITOw3G",
        "outputId": "0bef80db-ff97-415e-dd97-336250304852"
      },
      "source": [
        "!git status\n",
        "# Голова на ветке master\n",
        "# Нет ничего для закоммичивания (фиксации в репо).\n",
        "# Рабачее дерево чисто."
      ],
      "execution_count": null,
      "outputs": [
        {
          "output_type": "stream",
          "text": [
            "On branch master\n",
            "nothing to commit, working tree clean\n"
          ],
          "name": "stdout"
        }
      ]
    },
    {
      "cell_type": "markdown",
      "metadata": {
        "id": "4B0AZC51mG4k"
      },
      "source": [
        "### Структура коммита\n",
        "\n",
        "- уникальный id (который hash от этого коммита)\n",
        "- ссылка на родительский коммит (не обязательно)\n",
        "- Автор (кто написал код)\n",
        "- Коммитер (кто добавил в репо)\n",
        "- Время\n",
        "- Структура репозитория в момент коммита (коммит зранит в себе структуру, т.е. те файлы который мы добавили к коммиту, всю историю)"
      ]
    },
    {
      "cell_type": "markdown",
      "metadata": {
        "id": "idLds43IqbQt"
      },
      "source": [
        "Untracked -> Add the file -> Staged\n",
        "\n",
        "Staged -> Commit -> Unmodified\n",
        "\n",
        "Unmodified -> Edit the file -> Modified\n",
        "\n",
        "Modified -> Stage the file -> Staged\n",
        "\n",
        "Unmodified -> Remove the file -> Untracked\n",
        "\n",
        "Stage the file - Подготовить файл"
      ]
    },
    {
      "cell_type": "markdown",
      "metadata": {
        "id": "R5o7w9TEvKH_"
      },
      "source": [
        "Теперь изменим файл file.md"
      ]
    },
    {
      "cell_type": "code",
      "metadata": {
        "colab": {
          "base_uri": "https://localhost:8080/"
        },
        "id": "crmBlZUWPga8",
        "outputId": "cf02ef3c-b4fc-4fb6-dea7-ca5c875d86b5"
      },
      "source": [
        "%%writefile file.md\n",
        "Hey there here is the start of the text and also here\n",
        "here is the end"
      ],
      "execution_count": null,
      "outputs": [
        {
          "output_type": "stream",
          "text": [
            "Overwriting file.md\n"
          ],
          "name": "stdout"
        }
      ]
    },
    {
      "cell_type": "markdown",
      "metadata": {
        "id": "CyzPOz2RvVxJ"
      },
      "source": [
        "И средствами Colab создадим еще два файла f1.py, f2.txt и напишем туда что-то"
      ]
    },
    {
      "cell_type": "code",
      "metadata": {
        "colab": {
          "base_uri": "https://localhost:8080/"
        },
        "id": "Obw3W5ozicxu",
        "outputId": "da0eaf44-221a-478e-a1d2-57818d9d2a54"
      },
      "source": [
        "!git status"
      ],
      "execution_count": null,
      "outputs": [
        {
          "output_type": "stream",
          "text": [
            "On branch master\n",
            "Changes not staged for commit:\n",
            "  (use \"git add <file>...\" to update what will be committed)\n",
            "  (use \"git checkout -- <file>...\" to discard changes in working directory)\n",
            "\n",
            "\t\u001b[31mmodified:   file.md\u001b[m\n",
            "\n",
            "Untracked files:\n",
            "  (use \"git add <file>...\" to include in what will be committed)\n",
            "\n",
            "\t\u001b[31mf1.py\u001b[m\n",
            "\t\u001b[31mf2.txt\u001b[m\n",
            "\n",
            "no changes added to commit (use \"git add\" and/or \"git commit -a\")\n"
          ],
          "name": "stdout"
        }
      ]
    },
    {
      "cell_type": "markdown",
      "metadata": {
        "id": "JlQofRKAvrGy"
      },
      "source": [
        "Как видим, файл стал modified, и чтобы его перевести в staged (подготовлен к коммиту) надо применить git add. Git checkout -- file.md позволит вернуться к прежним изменениям."
      ]
    },
    {
      "cell_type": "code",
      "metadata": {
        "id": "U6oYPRhDu6lv"
      },
      "source": [
        "!git checkout --  file.md"
      ],
      "execution_count": null,
      "outputs": []
    },
    {
      "cell_type": "code",
      "metadata": {
        "colab": {
          "base_uri": "https://localhost:8080/"
        },
        "id": "i1jRPEI2wa9A",
        "outputId": "15171154-0694-478f-e771-7367b0a394f6"
      },
      "source": [
        "! git status"
      ],
      "execution_count": null,
      "outputs": [
        {
          "output_type": "stream",
          "text": [
            "On branch master\n",
            "Untracked files:\n",
            "  (use \"git add <file>...\" to include in what will be committed)\n",
            "\n",
            "\t\u001b[31mf1.py\u001b[m\n",
            "\t\u001b[31mf2.txt\u001b[m\n",
            "\n",
            "nothing added to commit but untracked files present (use \"git add\" to track)\n"
          ],
          "name": "stdout"
        }
      ]
    },
    {
      "cell_type": "code",
      "metadata": {
        "colab": {
          "base_uri": "https://localhost:8080/"
        },
        "id": "ffbQzVKZwcc2",
        "outputId": "885294c7-f5b0-48ed-eb7d-68cd1e5d7539"
      },
      "source": [
        "!cat file.md\n",
        "# Мы вернулись к прежней версии файла\n",
        "# Соотв-но контент \"Hey there ..\" мы утратили."
      ],
      "execution_count": null,
      "outputs": [
        {
          "output_type": "stream",
          "text": [
            "Hi!\n"
          ],
          "name": "stdout"
        }
      ]
    },
    {
      "cell_type": "markdown",
      "metadata": {
        "id": "fW8KYx2ZxOu-"
      },
      "source": [
        "Сделаем еще одно важное изменение и коммит"
      ]
    },
    {
      "cell_type": "code",
      "metadata": {
        "colab": {
          "base_uri": "https://localhost:8080/"
        },
        "id": "Hhz9-_CdwlVV",
        "outputId": "5d807699-8911-498d-9dbe-3d4a7f1b1c73"
      },
      "source": [
        "%%writefile file.md\n",
        " Hello world!"
      ],
      "execution_count": null,
      "outputs": [
        {
          "output_type": "stream",
          "text": [
            "Overwriting file.md\n"
          ],
          "name": "stdout"
        }
      ]
    },
    {
      "cell_type": "code",
      "metadata": {
        "colab": {
          "base_uri": "https://localhost:8080/"
        },
        "id": "hTVrMD3vxbUT",
        "outputId": "2e5a8b61-917c-43fc-d769-dd030c6dd74f"
      },
      "source": [
        "!git add file.md \n",
        "!git status"
      ],
      "execution_count": null,
      "outputs": [
        {
          "output_type": "stream",
          "text": [
            "On branch master\n",
            "Changes to be committed:\n",
            "  (use \"git reset HEAD <file>...\" to unstage)\n",
            "\n",
            "\t\u001b[32mmodified:   file.md\u001b[m\n",
            "\n",
            "Untracked files:\n",
            "  (use \"git add <file>...\" to include in what will be committed)\n",
            "\n",
            "\t\u001b[31mf1.py\u001b[m\n",
            "\t\u001b[31mf2.txt\u001b[m\n",
            "\n"
          ],
          "name": "stdout"
        }
      ]
    },
    {
      "cell_type": "code",
      "metadata": {
        "colab": {
          "base_uri": "https://localhost:8080/"
        },
        "id": "q9QkdGnVxmlx",
        "outputId": "80bd26d7-3d21-4e31-83a1-99f6aaf046e4"
      },
      "source": [
        "!git add f1.py f2.txt\n",
        "!git status"
      ],
      "execution_count": null,
      "outputs": [
        {
          "output_type": "stream",
          "text": [
            "On branch master\n",
            "Changes to be committed:\n",
            "  (use \"git reset HEAD <file>...\" to unstage)\n",
            "\n",
            "\t\u001b[32mnew file:   f1.py\u001b[m\n",
            "\t\u001b[32mnew file:   f2.txt\u001b[m\n",
            "\t\u001b[32mmodified:   file.md\u001b[m\n",
            "\n"
          ],
          "name": "stdout"
        }
      ]
    },
    {
      "cell_type": "code",
      "metadata": {
        "colab": {
          "base_uri": "https://localhost:8080/"
        },
        "id": "nwJE5a8Zx0fw",
        "outputId": "daf78fe2-5d55-4fd6-b133-e29ba9af6323"
      },
      "source": [
        "!git commit -m 'Add 2 file and modified the first one'"
      ],
      "execution_count": null,
      "outputs": [
        {
          "output_type": "stream",
          "text": [
            "[master 54d2376] Add 2 file and modified the first one\n",
            " 3 files changed, 3 insertions(+), 1 deletion(-)\n",
            " create mode 100644 f1.py\n",
            " create mode 100644 f2.txt\n"
          ],
          "name": "stdout"
        }
      ]
    },
    {
      "cell_type": "markdown",
      "metadata": {
        "id": "2Ha0U2CqyZll"
      },
      "source": [
        "Выведем историю коммитов"
      ]
    },
    {
      "cell_type": "code",
      "metadata": {
        "colab": {
          "base_uri": "https://localhost:8080/"
        },
        "id": "2K2MH2E3yHzs",
        "outputId": "b9c88b74-ce2e-43f6-d11b-d4774d90b188"
      },
      "source": [
        "!git log"
      ],
      "execution_count": null,
      "outputs": [
        {
          "output_type": "stream",
          "text": [
            "\u001b[33mcommit 54d237684c4f50321e9c154a151eb460adf73b45\u001b[m\u001b[33m (\u001b[m\u001b[1;36mHEAD -> \u001b[m\u001b[1;32mmaster\u001b[m\u001b[33m)\u001b[m\n",
            "Author: AlexChanin <web.shore@yahoo.com>\n",
            "Date:   Wed Mar 10 15:36:56 2021 +0000\n",
            "\n",
            "    Add 2 file and modified the first one\n",
            "\n",
            "\u001b[33mcommit c05a9ba02c55e14ebf58409a2ca0e794d53b94b0\u001b[m\n",
            "Author: AlexChanin <web.shore@yahoo.com>\n",
            "Date:   Wed Mar 10 14:31:22 2021 +0000\n",
            "\n",
            "    message_1\n"
          ],
          "name": "stdout"
        }
      ]
    },
    {
      "cell_type": "markdown",
      "metadata": {
        "id": "lwSl5FReyw50"
      },
      "source": [
        "Как отказаться от добавления файла f2.txt в коммит?"
      ]
    },
    {
      "cell_type": "code",
      "metadata": {
        "id": "Aax49XAuyPis"
      },
      "source": [
        "!git reset HEAD f2.txt"
      ],
      "execution_count": null,
      "outputs": []
    },
    {
      "cell_type": "code",
      "metadata": {
        "colab": {
          "base_uri": "https://localhost:8080/"
        },
        "id": "AV8L9_0wzBHV",
        "outputId": "df6a769f-8bc5-428a-f7c8-4d604d44efd7"
      },
      "source": [
        "!git log"
      ],
      "execution_count": null,
      "outputs": [
        {
          "output_type": "stream",
          "text": [
            "\u001b[33mcommit 54d237684c4f50321e9c154a151eb460adf73b45\u001b[m\u001b[33m (\u001b[m\u001b[1;36mHEAD -> \u001b[m\u001b[1;32mmaster\u001b[m\u001b[33m)\u001b[m\n",
            "Author: AlexChanin <web.shore@yahoo.com>\n",
            "Date:   Wed Mar 10 15:36:56 2021 +0000\n",
            "\n",
            "    Add 2 file and modified the first one\n",
            "\n",
            "\u001b[33mcommit c05a9ba02c55e14ebf58409a2ca0e794d53b94b0\u001b[m\n",
            "Author: AlexChanin <web.shore@yahoo.com>\n",
            "Date:   Wed Mar 10 14:31:22 2021 +0000\n",
            "\n",
            "    message_1\n"
          ],
          "name": "stdout"
        }
      ]
    },
    {
      "cell_type": "code",
      "metadata": {
        "id": "3Gb0otedzDc0"
      },
      "source": [
        "!rm f2.txt"
      ],
      "execution_count": null,
      "outputs": []
    },
    {
      "cell_type": "code",
      "metadata": {
        "colab": {
          "base_uri": "https://localhost:8080/"
        },
        "id": "Dp4FMwnZzfyY",
        "outputId": "cdb245c5-8a71-4f2b-fb24-f671edc89bb3"
      },
      "source": [
        "!ls"
      ],
      "execution_count": null,
      "outputs": [
        {
          "output_type": "stream",
          "text": [
            "f1.py  file.md\n"
          ],
          "name": "stdout"
        }
      ]
    },
    {
      "cell_type": "code",
      "metadata": {
        "id": "FK4dwgAMzgyW"
      },
      "source": [
        "!rm f1.py"
      ],
      "execution_count": null,
      "outputs": []
    },
    {
      "cell_type": "code",
      "metadata": {
        "colab": {
          "base_uri": "https://localhost:8080/"
        },
        "id": "QWqyZn7mzvtB",
        "outputId": "4ddaa368-4461-4629-b728-23a1c5d5b8e1"
      },
      "source": [
        "!git status"
      ],
      "execution_count": null,
      "outputs": [
        {
          "output_type": "stream",
          "text": [
            "On branch master\n",
            "Changes not staged for commit:\n",
            "  (use \"git add/rm <file>...\" to update what will be committed)\n",
            "  (use \"git checkout -- <file>...\" to discard changes in working directory)\n",
            "\n",
            "\t\u001b[31mdeleted:    f1.py\u001b[m\n",
            "\t\u001b[31mdeleted:    f2.txt\u001b[m\n",
            "\n",
            "no changes added to commit (use \"git add\" and/or \"git commit -a\")\n"
          ],
          "name": "stdout"
        }
      ]
    },
    {
      "cell_type": "code",
      "metadata": {
        "colab": {
          "base_uri": "https://localhost:8080/"
        },
        "id": "A83ULN8czzpR",
        "outputId": "a359bf50-8a46-4cb0-933f-46636265c608"
      },
      "source": [
        "!git rm f1.py"
      ],
      "execution_count": null,
      "outputs": [
        {
          "output_type": "stream",
          "text": [
            "rm 'f1.py'\n"
          ],
          "name": "stdout"
        }
      ]
    },
    {
      "cell_type": "code",
      "metadata": {
        "colab": {
          "base_uri": "https://localhost:8080/"
        },
        "id": "kKGvlKf00Gwr",
        "outputId": "56c05436-79d8-419b-9ed6-75ec3621338c"
      },
      "source": [
        "!git status"
      ],
      "execution_count": null,
      "outputs": [
        {
          "output_type": "stream",
          "text": [
            "On branch master\n",
            "Changes to be committed:\n",
            "  (use \"git reset HEAD <file>...\" to unstage)\n",
            "\n",
            "\t\u001b[32mdeleted:    f1.py\u001b[m\n",
            "\n",
            "Changes not staged for commit:\n",
            "  (use \"git add/rm <file>...\" to update what will be committed)\n",
            "  (use \"git checkout -- <file>...\" to discard changes in working directory)\n",
            "\n",
            "\t\u001b[31mdeleted:    f2.txt\u001b[m\n",
            "\n"
          ],
          "name": "stdout"
        }
      ]
    },
    {
      "cell_type": "code",
      "metadata": {
        "colab": {
          "base_uri": "https://localhost:8080/"
        },
        "id": "9_CwMoYH0KXL",
        "outputId": "0a9b2fd6-f743-422a-a0c4-18b99fbf640a"
      },
      "source": [
        "!git reset HEAD f1.py"
      ],
      "execution_count": null,
      "outputs": [
        {
          "output_type": "stream",
          "text": [
            "Unstaged changes after reset:\n",
            "D\tf1.py\n",
            "D\tf2.txt\n"
          ],
          "name": "stdout"
        }
      ]
    },
    {
      "cell_type": "code",
      "metadata": {
        "colab": {
          "base_uri": "https://localhost:8080/"
        },
        "id": "xaZCLWlg0RJA",
        "outputId": "837212d8-8c2e-4541-85bf-8f65fda3fd44"
      },
      "source": [
        "!git status"
      ],
      "execution_count": null,
      "outputs": [
        {
          "output_type": "stream",
          "text": [
            "On branch master\n",
            "Changes not staged for commit:\n",
            "  (use \"git add/rm <file>...\" to update what will be committed)\n",
            "  (use \"git checkout -- <file>...\" to discard changes in working directory)\n",
            "\n",
            "\t\u001b[31mdeleted:    f1.py\u001b[m\n",
            "\t\u001b[31mdeleted:    f2.txt\u001b[m\n",
            "\n",
            "no changes added to commit (use \"git add\" and/or \"git commit -a\")\n"
          ],
          "name": "stdout"
        }
      ]
    },
    {
      "cell_type": "code",
      "metadata": {
        "colab": {
          "base_uri": "https://localhost:8080/"
        },
        "id": "Z7UqxQOu0VqL",
        "outputId": "9f71a08b-f99a-457f-cf1f-4c9e4b7f431d"
      },
      "source": [
        "!git reset HEAD f1.py f2.txt"
      ],
      "execution_count": null,
      "outputs": [
        {
          "output_type": "stream",
          "text": [
            "Unstaged changes after reset:\n",
            "D\tf1.py\n",
            "D\tf2.txt\n"
          ],
          "name": "stdout"
        }
      ]
    },
    {
      "cell_type": "code",
      "metadata": {
        "colab": {
          "base_uri": "https://localhost:8080/"
        },
        "id": "p6NH7vrS0soa",
        "outputId": "8b588e83-ac93-488f-eb06-77c89aa4b5bf"
      },
      "source": [
        "!git status"
      ],
      "execution_count": null,
      "outputs": [
        {
          "output_type": "stream",
          "text": [
            "On branch master\n",
            "Changes not staged for commit:\n",
            "  (use \"git add/rm <file>...\" to update what will be committed)\n",
            "  (use \"git checkout -- <file>...\" to discard changes in working directory)\n",
            "\n",
            "\t\u001b[31mdeleted:    f1.py\u001b[m\n",
            "\t\u001b[31mdeleted:    f2.txt\u001b[m\n",
            "\n",
            "no changes added to commit (use \"git add\" and/or \"git commit -a\")\n"
          ],
          "name": "stdout"
        }
      ]
    },
    {
      "cell_type": "code",
      "metadata": {
        "id": "i_1OuK1f0uWG"
      },
      "source": [
        "!git checkout -- f1.py f2.txt"
      ],
      "execution_count": null,
      "outputs": []
    },
    {
      "cell_type": "code",
      "metadata": {
        "colab": {
          "base_uri": "https://localhost:8080/"
        },
        "id": "2R0FKpBv03Sd",
        "outputId": "10a5b458-08d1-4ba0-dcf2-72394aae666d"
      },
      "source": [
        "!git status"
      ],
      "execution_count": null,
      "outputs": [
        {
          "output_type": "stream",
          "text": [
            "On branch master\n",
            "nothing to commit, working tree clean\n"
          ],
          "name": "stdout"
        }
      ]
    },
    {
      "cell_type": "code",
      "metadata": {
        "colab": {
          "base_uri": "https://localhost:8080/"
        },
        "id": "toDPqGhO04oD",
        "outputId": "488524b6-4ac6-4e27-bedc-3d1baa97162b"
      },
      "source": [
        "!ls"
      ],
      "execution_count": null,
      "outputs": [
        {
          "output_type": "stream",
          "text": [
            "f1.py  f2.txt  file.md\n"
          ],
          "name": "stdout"
        }
      ]
    },
    {
      "cell_type": "code",
      "metadata": {
        "colab": {
          "base_uri": "https://localhost:8080/"
        },
        "id": "-yc87r6S06V6",
        "outputId": "754a9b47-c3db-49d2-c8f2-666a48578f85"
      },
      "source": [
        "!git rm f1.py  f2.txt"
      ],
      "execution_count": null,
      "outputs": [
        {
          "output_type": "stream",
          "text": [
            "rm 'f1.py'\n",
            "rm 'f2.txt'\n"
          ],
          "name": "stdout"
        }
      ]
    },
    {
      "cell_type": "code",
      "metadata": {
        "colab": {
          "base_uri": "https://localhost:8080/"
        },
        "id": "e32xuRll1dOI",
        "outputId": "f9b8f79d-8f89-4c68-8715-e41d5f8f9975"
      },
      "source": [
        "!git status"
      ],
      "execution_count": null,
      "outputs": [
        {
          "output_type": "stream",
          "text": [
            "On branch master\n",
            "Changes to be committed:\n",
            "  (use \"git reset HEAD <file>...\" to unstage)\n",
            "\n",
            "\t\u001b[32mdeleted:    f1.py\u001b[m\n",
            "\t\u001b[32mdeleted:    f2.txt\u001b[m\n",
            "\n"
          ],
          "name": "stdout"
        }
      ]
    },
    {
      "cell_type": "code",
      "metadata": {
        "colab": {
          "base_uri": "https://localhost:8080/"
        },
        "id": "TTN9jIQy1g8A",
        "outputId": "d2d81385-6276-4518-b2fd-dc6cfea270af"
      },
      "source": [
        "!git reset HEAD f1.py f2.txt"
      ],
      "execution_count": null,
      "outputs": [
        {
          "output_type": "stream",
          "text": [
            "Unstaged changes after reset:\n",
            "D\tf1.py\n",
            "D\tf2.txt\n"
          ],
          "name": "stdout"
        }
      ]
    },
    {
      "cell_type": "code",
      "metadata": {
        "colab": {
          "base_uri": "https://localhost:8080/"
        },
        "id": "JtzMvUQn1qO3",
        "outputId": "ae2b0ea1-98b4-418d-b1c3-61c5c182d9ef"
      },
      "source": [
        "!git status"
      ],
      "execution_count": null,
      "outputs": [
        {
          "output_type": "stream",
          "text": [
            "On branch master\n",
            "Changes not staged for commit:\n",
            "  (use \"git add/rm <file>...\" to update what will be committed)\n",
            "  (use \"git checkout -- <file>...\" to discard changes in working directory)\n",
            "\n",
            "\t\u001b[31mdeleted:    f1.py\u001b[m\n",
            "\t\u001b[31mdeleted:    f2.txt\u001b[m\n",
            "\n",
            "no changes added to commit (use \"git add\" and/or \"git commit -a\")\n"
          ],
          "name": "stdout"
        }
      ]
    },
    {
      "cell_type": "code",
      "metadata": {
        "colab": {
          "base_uri": "https://localhost:8080/"
        },
        "id": "ljI1kT771rwP",
        "outputId": "9aeb0035-66e1-4fd5-a3ee-5277499bb4b3"
      },
      "source": [
        "!ls"
      ],
      "execution_count": null,
      "outputs": [
        {
          "output_type": "stream",
          "text": [
            "file.md\n"
          ],
          "name": "stdout"
        }
      ]
    },
    {
      "cell_type": "code",
      "metadata": {
        "colab": {
          "base_uri": "https://localhost:8080/"
        },
        "id": "ZqK7ZbkH16kP",
        "outputId": "b3c36d3a-985b-4d9f-89b5-4b340b876d54"
      },
      "source": [
        "!git rm f1.py f2.txt"
      ],
      "execution_count": null,
      "outputs": [
        {
          "output_type": "stream",
          "text": [
            "rm 'f1.py'\n",
            "rm 'f2.txt'\n"
          ],
          "name": "stdout"
        }
      ]
    },
    {
      "cell_type": "code",
      "metadata": {
        "colab": {
          "base_uri": "https://localhost:8080/"
        },
        "id": "Lzwq7gxD2QIf",
        "outputId": "2b57d9fc-050f-4c89-f0fe-663034900632"
      },
      "source": [
        "!git status"
      ],
      "execution_count": null,
      "outputs": [
        {
          "output_type": "stream",
          "text": [
            "On branch master\n",
            "Changes to be committed:\n",
            "  (use \"git reset HEAD <file>...\" to unstage)\n",
            "\n",
            "\t\u001b[32mdeleted:    f1.py\u001b[m\n",
            "\t\u001b[32mdeleted:    f2.txt\u001b[m\n",
            "\n"
          ],
          "name": "stdout"
        }
      ]
    },
    {
      "cell_type": "code",
      "metadata": {
        "colab": {
          "base_uri": "https://localhost:8080/"
        },
        "id": "0InT_zWu2Skw",
        "outputId": "04b70094-a3b0-4a15-c096-4dd45d2e5a37"
      },
      "source": [
        "!git reset HEAD f1.py f2.txt"
      ],
      "execution_count": null,
      "outputs": [
        {
          "output_type": "stream",
          "text": [
            "Unstaged changes after reset:\n",
            "D\tf1.py\n",
            "D\tf2.txt\n"
          ],
          "name": "stdout"
        }
      ]
    },
    {
      "cell_type": "code",
      "metadata": {
        "colab": {
          "base_uri": "https://localhost:8080/"
        },
        "id": "H7ALhd9D20IJ",
        "outputId": "f890edd8-db13-427e-ff32-8abf9339b61d"
      },
      "source": [
        "!git status"
      ],
      "execution_count": null,
      "outputs": [
        {
          "output_type": "stream",
          "text": [
            "On branch master\n",
            "Changes not staged for commit:\n",
            "  (use \"git add/rm <file>...\" to update what will be committed)\n",
            "  (use \"git checkout -- <file>...\" to discard changes in working directory)\n",
            "\n",
            "\t\u001b[31mdeleted:    f1.py\u001b[m\n",
            "\t\u001b[31mdeleted:    f2.txt\u001b[m\n",
            "\n",
            "no changes added to commit (use \"git add\" and/or \"git commit -a\")\n"
          ],
          "name": "stdout"
        }
      ]
    },
    {
      "cell_type": "markdown",
      "metadata": {
        "id": "a6cB8teR3MPK"
      },
      "source": [
        "Закомичиваем удаление 2-х фалов, которые ранее участвовали во втором коммите"
      ]
    },
    {
      "cell_type": "code",
      "metadata": {
        "colab": {
          "base_uri": "https://localhost:8080/"
        },
        "id": "jy6yW-B721Y_",
        "outputId": "717b0ed5-cd64-4a4f-9ee3-404ba0ba505f"
      },
      "source": [
        "!git commit -a -m 'Deleted 2 files'"
      ],
      "execution_count": null,
      "outputs": [
        {
          "output_type": "stream",
          "text": [
            "[master ba48ec8] Deleted 2 files\n",
            " 2 files changed, 2 deletions(-)\n",
            " delete mode 100644 f1.py\n",
            " delete mode 100644 f2.txt\n"
          ],
          "name": "stdout"
        }
      ]
    },
    {
      "cell_type": "code",
      "metadata": {
        "colab": {
          "base_uri": "https://localhost:8080/"
        },
        "id": "6zpklXnP2_m5",
        "outputId": "a9829380-7753-4e80-aa76-13a6c20a7814"
      },
      "source": [
        "!ls"
      ],
      "execution_count": null,
      "outputs": [
        {
          "output_type": "stream",
          "text": [
            "file.md\n"
          ],
          "name": "stdout"
        }
      ]
    },
    {
      "cell_type": "markdown",
      "metadata": {
        "id": "DHXgTnJHDDZt"
      },
      "source": [
        ""
      ]
    },
    {
      "cell_type": "code",
      "metadata": {
        "colab": {
          "base_uri": "https://localhost:8080/"
        },
        "id": "JOpIzh853Vzk",
        "outputId": "dce41f0a-4574-42d1-bd8e-1d800b83d2ba"
      },
      "source": [
        "!cat file.md"
      ],
      "execution_count": null,
      "outputs": [
        {
          "output_type": "stream",
          "text": [
            " Hello world!"
          ],
          "name": "stdout"
        }
      ]
    },
    {
      "cell_type": "markdown",
      "metadata": {
        "id": "Yns7bQNCD_P4"
      },
      "source": [
        "### Branch - Ветка\n",
        "\n",
        "Именованый указатель (для человека) на коммит. \n",
        "\n",
        "У каждого коммита есть индивидуальный индентификатор = хэш\n",
        "Пример хэш-суммы коммита: 54d237684c4f50321e9c154a151eb460adf73b45\n",
        "\n",
        "Пример назвния ветки: master\n",
        "\n",
        "Когда делаете коммит в ветку, ветка начинает  ссылаться на новый коммит"
      ]
    },
    {
      "cell_type": "markdown",
      "metadata": {
        "id": "Heh0boyoFL77"
      },
      "source": [
        "Просмотр текущих веток"
      ]
    },
    {
      "cell_type": "code",
      "metadata": {
        "colab": {
          "base_uri": "https://localhost:8080/"
        },
        "id": "dm0Ekk6uD0eP",
        "outputId": "0a5d7a71-7016-48e5-dce8-25d0ad0f4683"
      },
      "source": [
        "!git branch\n",
        "# зведочка означает что HEAD стоит на ветке master"
      ],
      "execution_count": null,
      "outputs": [
        {
          "output_type": "stream",
          "text": [
            "* \u001b[32mmaster\u001b[m\n"
          ],
          "name": "stdout"
        }
      ]
    },
    {
      "cell_type": "code",
      "metadata": {
        "id": "cEUq5SCGFQ-5"
      },
      "source": [
        "# create a new branch\n",
        "!git branch test"
      ],
      "execution_count": null,
      "outputs": []
    },
    {
      "cell_type": "code",
      "metadata": {
        "colab": {
          "base_uri": "https://localhost:8080/"
        },
        "id": "i1ZBcu7IFiKp",
        "outputId": "818631e8-8628-4333-c414-aba09d610cac"
      },
      "source": [
        "!git branch"
      ],
      "execution_count": null,
      "outputs": [
        {
          "output_type": "stream",
          "text": [
            "* \u001b[32mmaster\u001b[m\n",
            "  test\u001b[m\n"
          ],
          "name": "stdout"
        }
      ]
    },
    {
      "cell_type": "markdown",
      "metadata": {
        "id": "8tbZ6_FrFpBN"
      },
      "source": [
        "Для переключения между ветками используется команда checkout"
      ]
    },
    {
      "cell_type": "code",
      "metadata": {
        "colab": {
          "base_uri": "https://localhost:8080/"
        },
        "id": "Y1OIBxShFkja",
        "outputId": "275d6110-70f6-4ddb-b199-fe6483082ff9"
      },
      "source": [
        "!git checkout test"
      ],
      "execution_count": null,
      "outputs": [
        {
          "output_type": "stream",
          "text": [
            "Switched to branch 'test'\n"
          ],
          "name": "stdout"
        }
      ]
    },
    {
      "cell_type": "code",
      "metadata": {
        "colab": {
          "base_uri": "https://localhost:8080/"
        },
        "id": "xcuF_WAxF0Mq",
        "outputId": "f0844dc2-c494-4ad8-d27f-1f4caae9f365"
      },
      "source": [
        "%%writefile file.md\n",
        " Hello world!\n",
        " New test branch."
      ],
      "execution_count": null,
      "outputs": [
        {
          "output_type": "stream",
          "text": [
            "Overwriting file.md\n"
          ],
          "name": "stdout"
        }
      ]
    },
    {
      "cell_type": "code",
      "metadata": {
        "colab": {
          "base_uri": "https://localhost:8080/"
        },
        "id": "_D9jae2xGJtA",
        "outputId": "ffe0af00-a448-47ed-cb26-52a17c28d0e4"
      },
      "source": [
        "!git commit -a -m 'new test snippet'"
      ],
      "execution_count": null,
      "outputs": [
        {
          "output_type": "stream",
          "text": [
            "[test 4a0cbd4] new test snippet\n",
            " 1 file changed, 2 insertions(+), 1 deletion(-)\n"
          ],
          "name": "stdout"
        }
      ]
    },
    {
      "cell_type": "code",
      "metadata": {
        "colab": {
          "base_uri": "https://localhost:8080/"
        },
        "id": "xmdFD16bGcpP",
        "outputId": "e8214d53-d13a-4c40-e1c9-7dc49e0f9e4b"
      },
      "source": [
        "!git checkout master"
      ],
      "execution_count": null,
      "outputs": [
        {
          "output_type": "stream",
          "text": [
            "Switched to branch 'master'\n"
          ],
          "name": "stdout"
        }
      ]
    },
    {
      "cell_type": "code",
      "metadata": {
        "colab": {
          "base_uri": "https://localhost:8080/"
        },
        "id": "LVxlEwVVGrsA",
        "outputId": "66b668c8-be49-4e0a-d497-016ef3562167"
      },
      "source": [
        "!cat file.md"
      ],
      "execution_count": null,
      "outputs": [
        {
          "output_type": "stream",
          "text": [
            " Hello world!"
          ],
          "name": "stdout"
        }
      ]
    },
    {
      "cell_type": "code",
      "metadata": {
        "colab": {
          "base_uri": "https://localhost:8080/"
        },
        "id": "xa-uaIlaGybB",
        "outputId": "f7718c70-eb56-47fa-d889-360ec65ef6b1"
      },
      "source": [
        "!git checkout test"
      ],
      "execution_count": null,
      "outputs": [
        {
          "output_type": "stream",
          "text": [
            "Switched to branch 'test'\n"
          ],
          "name": "stdout"
        }
      ]
    },
    {
      "cell_type": "code",
      "metadata": {
        "colab": {
          "base_uri": "https://localhost:8080/"
        },
        "id": "tpiLbYZJG4Dk",
        "outputId": "6ad777b4-c4b1-4b4c-d581-9dc14d29908b"
      },
      "source": [
        "!cat file.md"
      ],
      "execution_count": null,
      "outputs": [
        {
          "output_type": "stream",
          "text": [
            " Hello world!\n",
            " New test branch."
          ],
          "name": "stdout"
        }
      ]
    },
    {
      "cell_type": "code",
      "metadata": {
        "colab": {
          "base_uri": "https://localhost:8080/"
        },
        "id": "bQAd06RKG6FH",
        "outputId": "efdaf598-9bf8-422c-cd92-972d079e5469"
      },
      "source": [
        "!git checkout master"
      ],
      "execution_count": null,
      "outputs": [
        {
          "output_type": "stream",
          "text": [
            "Switched to branch 'master'\n"
          ],
          "name": "stdout"
        }
      ]
    },
    {
      "cell_type": "code",
      "metadata": {
        "colab": {
          "base_uri": "https://localhost:8080/"
        },
        "id": "Ju9thjDaHAUr",
        "outputId": "c609ffbe-1bad-4656-a786-917b97e438d5"
      },
      "source": [
        "!cat file.md"
      ],
      "execution_count": null,
      "outputs": [
        {
          "output_type": "stream",
          "text": [
            " Hello world!"
          ],
          "name": "stdout"
        }
      ]
    },
    {
      "cell_type": "markdown",
      "metadata": {
        "id": "NqB_1honHE8L"
      },
      "source": [
        "Ветку удобно использовать, если надо работать над какой-то своей задачей. И как только она будет выполнена, то можно объединить коммиты."
      ]
    },
    {
      "cell_type": "markdown",
      "metadata": {
        "id": "HCrSPvbIHpTz"
      },
      "source": [
        "Для создания новой ветки и переключения на нее необходимо сделать так:"
      ]
    },
    {
      "cell_type": "code",
      "metadata": {
        "colab": {
          "base_uri": "https://localhost:8080/"
        },
        "id": "zoIUIPxCHB7g",
        "outputId": "b5c8a1df-d995-42fd-d742-f07db38f9fc1"
      },
      "source": [
        "!git checkout -b magic"
      ],
      "execution_count": null,
      "outputs": [
        {
          "output_type": "stream",
          "text": [
            "Switched to a new branch 'magic'\n"
          ],
          "name": "stdout"
        }
      ]
    },
    {
      "cell_type": "code",
      "metadata": {
        "colab": {
          "base_uri": "https://localhost:8080/"
        },
        "id": "L4TIkbHUH9_H",
        "outputId": "0b8d48b0-4931-4c94-947f-0a56fc9f205c"
      },
      "source": [
        "!git branch\n",
        "!git checkout master"
      ],
      "execution_count": null,
      "outputs": [
        {
          "output_type": "stream",
          "text": [
            "* \u001b[32mmagic\u001b[m\n",
            "  master\u001b[m\n",
            "  test\u001b[m\n",
            "Switched to branch 'master'\n"
          ],
          "name": "stdout"
        }
      ]
    },
    {
      "cell_type": "markdown",
      "metadata": {
        "id": "pnWSjpRnIQcK"
      },
      "source": [
        "Для удаления ветки сделаем следующее:"
      ]
    },
    {
      "cell_type": "code",
      "metadata": {
        "colab": {
          "base_uri": "https://localhost:8080/"
        },
        "id": "n6ZGhJ3TIJtP",
        "outputId": "236e128c-9cc1-486c-817c-8419708ed5ef"
      },
      "source": [
        "!git branch -d magic"
      ],
      "execution_count": null,
      "outputs": [
        {
          "output_type": "stream",
          "text": [
            "Deleted branch magic (was ba48ec8).\n"
          ],
          "name": "stdout"
        }
      ]
    },
    {
      "cell_type": "code",
      "metadata": {
        "colab": {
          "base_uri": "https://localhost:8080/"
        },
        "id": "EJzfwey5Ib_F",
        "outputId": "b3d1e251-f583-4e8e-a13c-fd99b7e0f54c"
      },
      "source": [
        "!git branch -d test\n",
        "# удалить нельзя т.к. есть коммит, который никуда не соединен (слит)."
      ],
      "execution_count": null,
      "outputs": [
        {
          "output_type": "stream",
          "text": [
            "error: The branch 'test' is not fully merged.\n",
            "If you are sure you want to delete it, run 'git branch -D test'.\n"
          ],
          "name": "stdout"
        }
      ]
    },
    {
      "cell_type": "code",
      "metadata": {
        "id": "5OMoXH7YIiIT"
      },
      "source": [
        "# Если мы будем настойчивы, то ветку Гит даст удалить, но коммит останется.\n",
        "# И найти его будет очень сложно в проекте, т.к. никакая ветка на него не ссылается."
      ],
      "execution_count": null,
      "outputs": []
    },
    {
      "cell_type": "markdown",
      "metadata": {
        "id": "rtS9sUmdJbP0"
      },
      "source": [
        "### HEAD - Голова\n",
        "\n",
        "Это указатель на текущее состояние репозитория\n",
        "\n",
        "Он может указывать: \n",
        "- на ветку или \n",
        "- на коммит\n",
        "\n",
        "Переключение голову осуществляется через команду checkout с указанием либо ветки либо хеша коммита"
      ]
    },
    {
      "cell_type": "code",
      "metadata": {
        "colab": {
          "base_uri": "https://localhost:8080/"
        },
        "id": "U8XbXRabJyMM",
        "outputId": "b3587721-a1c4-482a-c9e3-aa59c2424018"
      },
      "source": [
        "!git checkout master"
      ],
      "execution_count": null,
      "outputs": [
        {
          "output_type": "stream",
          "text": [
            "Already on 'master'\n"
          ],
          "name": "stdout"
        }
      ]
    },
    {
      "cell_type": "markdown",
      "metadata": {
        "id": "S3wE7FYCKV6o"
      },
      "source": [
        "Переместим голову на самый первый коммит"
      ]
    },
    {
      "cell_type": "code",
      "metadata": {
        "colab": {
          "base_uri": "https://localhost:8080/"
        },
        "id": "hZmK5kPIKOd1",
        "outputId": "63776f0a-92d1-4cbe-b4d1-8b3c9ab39e42"
      },
      "source": [
        "!git checkout c05a9ba02c55e14ebf58409a2ca0e794d53b94b0\n",
        "# Когда мы переключаемся не на ветку а на коммит, то голова становится отделенной detached\n",
        "# В основном переключаются между ветками, а на коммит переключаются когда надо посмотреть что-либо старое.\n",
        "# Логично что после просмотра пользователь переключается на прежнюю ветку с помощью checkout"
      ],
      "execution_count": null,
      "outputs": [
        {
          "output_type": "stream",
          "text": [
            "Note: checking out 'c05a9ba02c55e14ebf58409a2ca0e794d53b94b0'.\n",
            "\n",
            "You are in 'detached HEAD' state. You can look around, make experimental\n",
            "changes and commit them, and you can discard any commits you make in this\n",
            "state without impacting any branches by performing another checkout.\n",
            "\n",
            "If you want to create a new branch to retain commits you create, you may\n",
            "do so (now or later) by using -b with the checkout command again. Example:\n",
            "\n",
            "  git checkout -b <new-branch-name>\n",
            "\n",
            "HEAD is now at c05a9ba message_1\n"
          ],
          "name": "stdout"
        }
      ]
    },
    {
      "cell_type": "code",
      "metadata": {
        "colab": {
          "base_uri": "https://localhost:8080/"
        },
        "id": "tpN2aR4DKmXu",
        "outputId": "0f9ecc4d-fcb0-4a2c-d5d0-1725480e151b"
      },
      "source": [
        "!cat file.md"
      ],
      "execution_count": null,
      "outputs": [
        {
          "output_type": "stream",
          "text": [
            "Hi!\n"
          ],
          "name": "stdout"
        }
      ]
    },
    {
      "cell_type": "code",
      "metadata": {
        "colab": {
          "base_uri": "https://localhost:8080/"
        },
        "id": "p9nmn5sqK599",
        "outputId": "bc60e4d9-a3ed-483d-e1e9-96c38595cadf"
      },
      "source": [
        "!ls"
      ],
      "execution_count": null,
      "outputs": [
        {
          "output_type": "stream",
          "text": [
            "file.md\n"
          ],
          "name": "stdout"
        }
      ]
    },
    {
      "cell_type": "code",
      "metadata": {
        "colab": {
          "base_uri": "https://localhost:8080/"
        },
        "id": "s0bJ7KPIMPpl",
        "outputId": "1e5f9cd7-a55b-402b-97af-8454ac7240d9"
      },
      "source": [
        "!git status "
      ],
      "execution_count": null,
      "outputs": [
        {
          "output_type": "stream",
          "text": [
            "\u001b[31mHEAD detached at \u001b[mc05a9ba\n",
            "nothing to commit, working tree clean\n"
          ],
          "name": "stdout"
        }
      ]
    },
    {
      "cell_type": "code",
      "metadata": {
        "colab": {
          "base_uri": "https://localhost:8080/"
        },
        "id": "Jjf8x5lXK8Nj",
        "outputId": "74b70a8c-49be-4f30-83de-606244d11b85"
      },
      "source": [
        "!git checkout master"
      ],
      "execution_count": null,
      "outputs": [
        {
          "output_type": "stream",
          "text": [
            "Previous HEAD position was c05a9ba message_1\n",
            "Switched to branch 'master'\n"
          ],
          "name": "stdout"
        }
      ]
    },
    {
      "cell_type": "code",
      "metadata": {
        "colab": {
          "base_uri": "https://localhost:8080/"
        },
        "id": "WeK93ymkMSzi",
        "outputId": "d4083cfe-6c41-4b47-fdb9-67cf26c87c52"
      },
      "source": [
        "!git status"
      ],
      "execution_count": null,
      "outputs": [
        {
          "output_type": "stream",
          "text": [
            "On branch master\n",
            "nothing to commit, working tree clean\n"
          ],
          "name": "stdout"
        }
      ]
    },
    {
      "cell_type": "markdown",
      "metadata": {
        "id": "4MQSvXxrMYnB"
      },
      "source": [
        "### LOG - История\n",
        "\n",
        "\n",
        "Git позволяет визуализировать состояние репозитория\n",
        "\n",
        "Обычно он выводит это на консоль и содержит большое кол-во параметров настройки этой самой визуализации в консоль\n",
        "\n",
        "Посмотрите man page этой команды: https://git-scm.com/docs/git-log"
      ]
    },
    {
      "cell_type": "code",
      "metadata": {
        "colab": {
          "base_uri": "https://localhost:8080/"
        },
        "id": "uWWTRfRuMVnc",
        "outputId": "14c5b81b-0cca-43c4-f939-c6e8df27d733"
      },
      "source": [
        " !git log"
      ],
      "execution_count": null,
      "outputs": [
        {
          "output_type": "stream",
          "text": [
            "\u001b[33mcommit ba48ec8ea35dc7b73b9faf34f81fcc7839624cb6\u001b[m\u001b[33m (\u001b[m\u001b[1;36mHEAD -> \u001b[m\u001b[1;32mmaster\u001b[m\u001b[33m)\u001b[m\n",
            "Author: AlexChanin <web.shore@yahoo.com>\n",
            "Date:   Wed Mar 10 15:58:02 2021 +0000\n",
            "\n",
            "    Deleted 2 files\n",
            "\n",
            "\u001b[33mcommit 54d237684c4f50321e9c154a151eb460adf73b45\u001b[m\n",
            "Author: AlexChanin <web.shore@yahoo.com>\n",
            "Date:   Wed Mar 10 15:36:56 2021 +0000\n",
            "\n",
            "    Add 2 file and modified the first one\n",
            "\n",
            "\u001b[33mcommit c05a9ba02c55e14ebf58409a2ca0e794d53b94b0\u001b[m\n",
            "Author: AlexChanin <web.shore@yahoo.com>\n",
            "Date:   Wed Mar 10 14:31:22 2021 +0000\n",
            "\n",
            "    message_1\n"
          ],
          "name": "stdout"
        }
      ]
    },
    {
      "cell_type": "code",
      "metadata": {
        "colab": {
          "base_uri": "https://localhost:8080/"
        },
        "id": "O1v1YmUdNTz_",
        "outputId": "6465f4ec-d62e-4040-fd03-cc987f69e29f"
      },
      "source": [
        "# simpleer format\n",
        "!git log --oneline"
      ],
      "execution_count": null,
      "outputs": [
        {
          "output_type": "stream",
          "text": [
            "\u001b[33mba48ec8\u001b[m\u001b[33m (\u001b[m\u001b[1;36mHEAD -> \u001b[m\u001b[1;32mmaster\u001b[m\u001b[33m)\u001b[m Deleted 2 files\n",
            "\u001b[33m54d2376\u001b[m Add 2 file and modified the first one\n",
            "\u001b[33mc05a9ba\u001b[m message_1\n"
          ],
          "name": "stdout"
        }
      ]
    },
    {
      "cell_type": "code",
      "metadata": {
        "colab": {
          "base_uri": "https://localhost:8080/"
        },
        "id": "Xch66JWpNd7n",
        "outputId": "652c3f6b-ec63-4545-8537-3d6a9eb0ce9d"
      },
      "source": [
        "# format with all commits in every branch\n",
        "!git log --oneline --all"
      ],
      "execution_count": null,
      "outputs": [
        {
          "output_type": "stream",
          "text": [
            "\u001b[33m4a0cbd4\u001b[m\u001b[33m (\u001b[m\u001b[1;32mtest\u001b[m\u001b[33m)\u001b[m new test snippet\n",
            "\u001b[33mba48ec8\u001b[m\u001b[33m (\u001b[m\u001b[1;36mHEAD -> \u001b[m\u001b[1;32mmaster\u001b[m\u001b[33m)\u001b[m Deleted 2 files\n",
            "\u001b[33m54d2376\u001b[m Add 2 file and modified the first one\n",
            "\u001b[33mc05a9ba\u001b[m message_1\n"
          ],
          "name": "stdout"
        }
      ]
    },
    {
      "cell_type": "markdown",
      "metadata": {
        "id": "ffY9wFA1OIF9"
      },
      "source": [
        "С помощью alias можно упростить процесс работы с log"
      ]
    },
    {
      "cell_type": "code",
      "metadata": {
        "id": "ui2MSdU3N1EP"
      },
      "source": [
        "!git config --global alias.lg1  \"log --graph --pretty=format:'%C(bold red)%h%Creset -%C(bold cyan)%d%Creset %C(black)%s%Creset %Cgreen(%cr)%Creset %C(bold blue)<%an>%Creset' --abbrev-commit\""
      ],
      "execution_count": null,
      "outputs": []
    },
    {
      "cell_type": "code",
      "metadata": {
        "colab": {
          "base_uri": "https://localhost:8080/"
        },
        "id": "XLxxro1bRmti",
        "outputId": "2be43bd7-0624-49d4-ccc4-4a69a55b1bd6"
      },
      "source": [
        "!git lg1"
      ],
      "execution_count": null,
      "outputs": [
        {
          "output_type": "stream",
          "text": [
            "* \u001b[1;31mba48ec8\u001b[m -\u001b[1;36m (HEAD -> master)\u001b[m \u001b[30mDeleted 2 files\u001b[m \u001b[32m(3 hours ago)\u001b[m \u001b[1;34m<AlexChanin>\u001b[m\n",
            "* \u001b[1;31m54d2376\u001b[m -\u001b[1;36m\u001b[m \u001b[30mAdd 2 file and modified the first one\u001b[m \u001b[32m(3 hours ago)\u001b[m \u001b[1;34m<AlexChanin>\u001b[m\n",
            "* \u001b[1;31mc05a9ba\u001b[m -\u001b[1;36m\u001b[m \u001b[30mmessage_1\u001b[m \u001b[32m(4 hours ago)\u001b[m \u001b[1;34m<AlexChanin>\u001b[m"
          ],
          "name": "stdout"
        }
      ]
    },
    {
      "cell_type": "markdown",
      "metadata": {
        "id": "hRnsSUVHevI_"
      },
      "source": [
        "### Продолжим процесс ветвления"
      ]
    },
    {
      "cell_type": "code",
      "metadata": {
        "colab": {
          "base_uri": "https://localhost:8080/"
        },
        "id": "3dCZ8KPeRqcJ",
        "outputId": "69fcc4e7-26b2-45f7-819b-45804d774136"
      },
      "source": [
        "!git branch"
      ],
      "execution_count": null,
      "outputs": [
        {
          "output_type": "stream",
          "text": [
            "* \u001b[32mmaster\u001b[m\n",
            "  test\u001b[m\n"
          ],
          "name": "stdout"
        }
      ]
    },
    {
      "cell_type": "code",
      "metadata": {
        "colab": {
          "base_uri": "https://localhost:8080/"
        },
        "id": "ibN7h8nsfXAH",
        "outputId": "616b8a32-cfd9-48d9-9c95-39d359a247d8"
      },
      "source": [
        "!git checkout -b task-1"
      ],
      "execution_count": null,
      "outputs": [
        {
          "output_type": "stream",
          "text": [
            "Switched to a new branch 'task-1'\n"
          ],
          "name": "stdout"
        }
      ]
    },
    {
      "cell_type": "code",
      "metadata": {
        "colab": {
          "base_uri": "https://localhost:8080/"
        },
        "id": "1442CdzwfiQ5",
        "outputId": "eab63ce3-bc84-4177-cc9c-2dd974e9f1f0"
      },
      "source": [
        "!git branch -d test"
      ],
      "execution_count": null,
      "outputs": [
        {
          "output_type": "stream",
          "text": [
            "error: The branch 'test' is not fully merged.\n",
            "If you are sure you want to delete it, run 'git branch -D test'.\n"
          ],
          "name": "stdout"
        }
      ]
    },
    {
      "cell_type": "code",
      "metadata": {
        "colab": {
          "base_uri": "https://localhost:8080/"
        },
        "id": "qiSKjCIZfpr3",
        "outputId": "38f5b8ee-106e-42a8-808e-fd97d66f4c04"
      },
      "source": [
        "!git status"
      ],
      "execution_count": null,
      "outputs": [
        {
          "output_type": "stream",
          "text": [
            "On branch task-1\n",
            "nothing to commit, working tree clean\n"
          ],
          "name": "stdout"
        }
      ]
    },
    {
      "cell_type": "code",
      "metadata": {
        "colab": {
          "base_uri": "https://localhost:8080/"
        },
        "id": "5CSiE6lChgz6",
        "outputId": "719f81e3-0975-4d46-de56-6302da47eff2"
      },
      "source": [
        "!git log --graph --all"
      ],
      "execution_count": null,
      "outputs": [
        {
          "output_type": "stream",
          "text": [
            "* \u001b[33mcommit 4a0cbd4f02d720ebb2dec8b4d6799d07f75bfee6\u001b[m\u001b[33m (\u001b[m\u001b[1;32mtest\u001b[m\u001b[33m)\u001b[m\n",
            "\u001b[31m|\u001b[m Author: AlexChanin <web.shore@yahoo.com>\n",
            "\u001b[31m|\u001b[m Date:   Wed Mar 10 17:05:33 2021 +0000\n",
            "\u001b[31m|\u001b[m \n",
            "\u001b[31m|\u001b[m     new test snippet\n",
            "\u001b[31m|\u001b[m \n",
            "* \u001b[33mcommit ba48ec8ea35dc7b73b9faf34f81fcc7839624cb6\u001b[m\u001b[33m (\u001b[m\u001b[1;36mHEAD -> \u001b[m\u001b[1;32mtask-1\u001b[m\u001b[33m, \u001b[m\u001b[1;32mmaster\u001b[m\u001b[33m)\u001b[m\n",
            "\u001b[31m|\u001b[m Author: AlexChanin <web.shore@yahoo.com>\n",
            "\u001b[31m|\u001b[m Date:   Wed Mar 10 15:58:02 2021 +0000\n",
            "\u001b[31m|\u001b[m \n",
            "\u001b[31m|\u001b[m     Deleted 2 files\n",
            "\u001b[31m|\u001b[m \n",
            "* \u001b[33mcommit 54d237684c4f50321e9c154a151eb460adf73b45\u001b[m\n",
            "\u001b[31m|\u001b[m Author: AlexChanin <web.shore@yahoo.com>\n",
            "\u001b[31m|\u001b[m Date:   Wed Mar 10 15:36:56 2021 +0000\n",
            "\u001b[31m|\u001b[m \n",
            "\u001b[31m|\u001b[m     Add 2 file and modified the first one\n",
            "\u001b[31m|\u001b[m \n",
            "* \u001b[33mcommit c05a9ba02c55e14ebf58409a2ca0e794d53b94b0\u001b[m\n",
            "  Author: AlexChanin <web.shore@yahoo.com>\n",
            "  Date:   Wed Mar 10 14:31:22 2021 +0000\n",
            "  \n",
            "      message_1\n"
          ],
          "name": "stdout"
        }
      ]
    },
    {
      "cell_type": "code",
      "metadata": {
        "colab": {
          "base_uri": "https://localhost:8080/"
        },
        "id": "_n8Z-okShtyI",
        "outputId": "cd6c7a1f-4bb6-4030-d186-1eff32f49a50"
      },
      "source": [
        "!git checkout master"
      ],
      "execution_count": null,
      "outputs": [
        {
          "output_type": "stream",
          "text": [
            "Switched to branch 'master'\n"
          ],
          "name": "stdout"
        }
      ]
    },
    {
      "cell_type": "code",
      "metadata": {
        "colab": {
          "base_uri": "https://localhost:8080/"
        },
        "id": "xoKpuVrWiMCk",
        "outputId": "50f7f8dd-90f9-4750-b319-3f46e4777de0"
      },
      "source": [
        "!git branch -d task-1"
      ],
      "execution_count": null,
      "outputs": [
        {
          "output_type": "execute_result",
          "data": {
            "text/plain": [
              "['Deleted branch task-1 (was ba48ec8).']"
            ]
          },
          "metadata": {
            "tags": []
          },
          "execution_count": 225
        }
      ]
    },
    {
      "cell_type": "code",
      "metadata": {
        "colab": {
          "base_uri": "https://localhost:8080/"
        },
        "id": "5SBUAzlHkPo9",
        "outputId": "9b88022e-9319-4775-8cb4-5bd666f6effe"
      },
      "source": [
        "!git checkout test"
      ],
      "execution_count": null,
      "outputs": [
        {
          "output_type": "stream",
          "text": [
            "Switched to branch 'test'\n"
          ],
          "name": "stdout"
        }
      ]
    },
    {
      "cell_type": "code",
      "metadata": {
        "colab": {
          "base_uri": "https://localhost:8080/"
        },
        "id": "LVLb1pYekS7y",
        "outputId": "7f1e9fba-7040-4933-fcda-fb4d8e710404"
      },
      "source": [
        "!git branch"
      ],
      "execution_count": null,
      "outputs": [
        {
          "output_type": "stream",
          "text": [
            "  master\u001b[m\n",
            "* \u001b[32mtest\u001b[m\n"
          ],
          "name": "stdout"
        }
      ]
    },
    {
      "cell_type": "code",
      "metadata": {
        "colab": {
          "base_uri": "https://localhost:8080/"
        },
        "id": "FaTfcbu6kVoO",
        "outputId": "4d0652e1-90bd-4fd4-991a-32f42454b55f"
      },
      "source": [
        "!git checkout -b task-1"
      ],
      "execution_count": null,
      "outputs": [
        {
          "output_type": "execute_result",
          "data": {
            "text/plain": [
              "[\"Switched to a new branch 'task-1'\"]"
            ]
          },
          "metadata": {
            "tags": []
          },
          "execution_count": 228
        }
      ]
    },
    {
      "cell_type": "code",
      "metadata": {
        "colab": {
          "base_uri": "https://localhost:8080/"
        },
        "id": "mm_kuR8kkait",
        "outputId": "b9a30e70-cd79-43a3-f159-e65178011ef7"
      },
      "source": [
        "!git log --graph --all"
      ],
      "execution_count": null,
      "outputs": [
        {
          "output_type": "stream",
          "text": [
            "* \u001b[33mcommit 4a0cbd4f02d720ebb2dec8b4d6799d07f75bfee6\u001b[m\u001b[33m (\u001b[m\u001b[1;36mHEAD -> \u001b[m\u001b[1;32mtask-1\u001b[m\u001b[33m, \u001b[m\u001b[1;32mtest\u001b[m\u001b[33m)\u001b[m\n",
            "\u001b[31m|\u001b[m Author: AlexChanin <web.shore@yahoo.com>\n",
            "\u001b[31m|\u001b[m Date:   Wed Mar 10 17:05:33 2021 +0000\n",
            "\u001b[31m|\u001b[m \n",
            "\u001b[31m|\u001b[m     new test snippet\n",
            "\u001b[31m|\u001b[m \n",
            "* \u001b[33mcommit ba48ec8ea35dc7b73b9faf34f81fcc7839624cb6\u001b[m\u001b[33m (\u001b[m\u001b[1;32mmaster\u001b[m\u001b[33m)\u001b[m\n",
            "\u001b[31m|\u001b[m Author: AlexChanin <web.shore@yahoo.com>\n",
            "\u001b[31m|\u001b[m Date:   Wed Mar 10 15:58:02 2021 +0000\n",
            "\u001b[31m|\u001b[m \n",
            "\u001b[31m|\u001b[m     Deleted 2 files\n",
            "\u001b[31m|\u001b[m \n",
            "* \u001b[33mcommit 54d237684c4f50321e9c154a151eb460adf73b45\u001b[m\n",
            "\u001b[31m|\u001b[m Author: AlexChanin <web.shore@yahoo.com>\n",
            "\u001b[31m|\u001b[m Date:   Wed Mar 10 15:36:56 2021 +0000\n",
            "\u001b[31m|\u001b[m \n",
            "\u001b[31m|\u001b[m     Add 2 file and modified the first one\n",
            "\u001b[31m|\u001b[m \n",
            "* \u001b[33mcommit c05a9ba02c55e14ebf58409a2ca0e794d53b94b0\u001b[m\n",
            "  Author: AlexChanin <web.shore@yahoo.com>\n",
            "  Date:   Wed Mar 10 14:31:22 2021 +0000\n",
            "  \n",
            "      message_1\n"
          ],
          "name": "stdout"
        }
      ]
    },
    {
      "cell_type": "code",
      "metadata": {
        "colab": {
          "base_uri": "https://localhost:8080/"
        },
        "id": "kaVi9mHUkdE9",
        "outputId": "86b414cd-cc2e-45ba-f4bb-02c4cb303c80"
      },
      "source": [
        "!git branch -d test"
      ],
      "execution_count": null,
      "outputs": [
        {
          "output_type": "stream",
          "text": [
            "Deleted branch test (was 4a0cbd4).\n"
          ],
          "name": "stdout"
        }
      ]
    },
    {
      "cell_type": "code",
      "metadata": {
        "colab": {
          "base_uri": "https://localhost:8080/"
        },
        "id": "phS1N9PelHn1",
        "outputId": "b3bb276c-b004-4b78-813d-1ec83bbe6e74"
      },
      "source": [
        "!git log --graph --all"
      ],
      "execution_count": null,
      "outputs": [
        {
          "output_type": "stream",
          "text": [
            "* \u001b[33mcommit 4a0cbd4f02d720ebb2dec8b4d6799d07f75bfee6\u001b[m\u001b[33m (\u001b[m\u001b[1;36mHEAD -> \u001b[m\u001b[1;32mtask-1\u001b[m\u001b[33m)\u001b[m\n",
            "\u001b[31m|\u001b[m Author: AlexChanin <web.shore@yahoo.com>\n",
            "\u001b[31m|\u001b[m Date:   Wed Mar 10 17:05:33 2021 +0000\n",
            "\u001b[31m|\u001b[m \n",
            "\u001b[31m|\u001b[m     new test snippet\n",
            "\u001b[31m|\u001b[m \n",
            "* \u001b[33mcommit ba48ec8ea35dc7b73b9faf34f81fcc7839624cb6\u001b[m\u001b[33m (\u001b[m\u001b[1;32mmaster\u001b[m\u001b[33m)\u001b[m\n",
            "\u001b[31m|\u001b[m Author: AlexChanin <web.shore@yahoo.com>\n",
            "\u001b[31m|\u001b[m Date:   Wed Mar 10 15:58:02 2021 +0000\n",
            "\u001b[31m|\u001b[m \n",
            "\u001b[31m|\u001b[m     Deleted 2 files\n",
            "\u001b[31m|\u001b[m \n",
            "* \u001b[33mcommit 54d237684c4f50321e9c154a151eb460adf73b45\u001b[m\n",
            "\u001b[31m|\u001b[m Author: AlexChanin <web.shore@yahoo.com>\n",
            "\u001b[31m|\u001b[m Date:   Wed Mar 10 15:36:56 2021 +0000\n",
            "\u001b[31m|\u001b[m \n",
            "\u001b[31m|\u001b[m     Add 2 file and modified the first one\n",
            "\u001b[31m|\u001b[m \n",
            "* \u001b[33mcommit c05a9ba02c55e14ebf58409a2ca0e794d53b94b0\u001b[m\n",
            "  Author: AlexChanin <web.shore@yahoo.com>\n",
            "  Date:   Wed Mar 10 14:31:22 2021 +0000\n",
            "  \n",
            "      message_1\n"
          ],
          "name": "stdout"
        }
      ]
    },
    {
      "cell_type": "code",
      "metadata": {
        "colab": {
          "base_uri": "https://localhost:8080/"
        },
        "id": "CLXxElzPlJ0o",
        "outputId": "f72e0c1e-2dd2-457d-e894-231ae5a84f2b"
      },
      "source": [
        "!git checkout master"
      ],
      "execution_count": null,
      "outputs": [
        {
          "output_type": "stream",
          "text": [
            "Switched to branch 'master'\n"
          ],
          "name": "stdout"
        }
      ]
    },
    {
      "cell_type": "code",
      "metadata": {
        "colab": {
          "base_uri": "https://localhost:8080/"
        },
        "id": "7v0r5hkulT14",
        "outputId": "6eeb1937-7567-4165-a197-a431898974e5"
      },
      "source": [
        "!git branch"
      ],
      "execution_count": null,
      "outputs": [
        {
          "output_type": "stream",
          "text": [
            "* \u001b[32mmaster\u001b[m\n",
            "  task-1\u001b[m\n"
          ],
          "name": "stdout"
        }
      ]
    },
    {
      "cell_type": "code",
      "metadata": {
        "colab": {
          "base_uri": "https://localhost:8080/"
        },
        "id": "MsUUHVw9lWNw",
        "outputId": "70091bea-f0e6-49bb-88b5-4e176e3911de"
      },
      "source": [
        "%%writefile file2.md\n",
        " Hello world again from file2!"
      ],
      "execution_count": null,
      "outputs": [
        {
          "output_type": "stream",
          "text": [
            "Writing file2.md\n"
          ],
          "name": "stdout"
        }
      ]
    },
    {
      "cell_type": "code",
      "metadata": {
        "colab": {
          "base_uri": "https://localhost:8080/"
        },
        "id": "lpVA9wcKlnXL",
        "outputId": "095996f1-0374-4e35-e76e-1f692ab0b4b7"
      },
      "source": [
        "!ls"
      ],
      "execution_count": null,
      "outputs": [
        {
          "output_type": "stream",
          "text": [
            "file2.md  file.md\n"
          ],
          "name": "stdout"
        }
      ]
    },
    {
      "cell_type": "code",
      "metadata": {
        "colab": {
          "base_uri": "https://localhost:8080/"
        },
        "id": "l4LXOw14loP8",
        "outputId": "c1414275-fae6-482d-e02c-267dfdbd7d68"
      },
      "source": [
        "!git status"
      ],
      "execution_count": null,
      "outputs": [
        {
          "output_type": "stream",
          "text": [
            "On branch master\n",
            "Untracked files:\n",
            "  (use \"git add <file>...\" to include in what will be committed)\n",
            "\n",
            "\t\u001b[31mfile2.md\u001b[m\n",
            "\n",
            "nothing added to commit but untracked files present (use \"git add\" to track)\n"
          ],
          "name": "stdout"
        }
      ]
    },
    {
      "cell_type": "code",
      "metadata": {
        "id": "SQiAzX0Mlq3T"
      },
      "source": [
        "!git add file2.md"
      ],
      "execution_count": null,
      "outputs": []
    },
    {
      "cell_type": "code",
      "metadata": {
        "colab": {
          "base_uri": "https://localhost:8080/"
        },
        "id": "pV1XcSRflype",
        "outputId": "db75950b-699a-4fbf-ea95-4fc460cb10f7"
      },
      "source": [
        "!git status"
      ],
      "execution_count": null,
      "outputs": [
        {
          "output_type": "stream",
          "text": [
            "On branch master\n",
            "Changes to be committed:\n",
            "  (use \"git reset HEAD <file>...\" to unstage)\n",
            "\n",
            "\t\u001b[32mnew file:   file2.md\u001b[m\n",
            "\n"
          ],
          "name": "stdout"
        }
      ]
    },
    {
      "cell_type": "code",
      "metadata": {
        "colab": {
          "base_uri": "https://localhost:8080/"
        },
        "id": "feBvk93fl0ge",
        "outputId": "d5fbaa72-98dc-4048-a593-5370db9580c4"
      },
      "source": [
        "!git commit -m 'Added second file Hello'"
      ],
      "execution_count": null,
      "outputs": [
        {
          "output_type": "stream",
          "text": [
            "[master 876519c] Added second file Hello\n",
            " 1 file changed, 1 insertion(+)\n",
            " create mode 100644 file2.md\n"
          ],
          "name": "stdout"
        }
      ]
    },
    {
      "cell_type": "code",
      "metadata": {
        "colab": {
          "base_uri": "https://localhost:8080/"
        },
        "id": "-rP8ljIfl9P0",
        "outputId": "61091635-4a25-4214-8e24-12f67c5b9227"
      },
      "source": [
        "!git status"
      ],
      "execution_count": null,
      "outputs": [
        {
          "output_type": "stream",
          "text": [
            "On branch master\n",
            "nothing to commit, working tree clean\n"
          ],
          "name": "stdout"
        }
      ]
    },
    {
      "cell_type": "code",
      "metadata": {
        "colab": {
          "base_uri": "https://localhost:8080/"
        },
        "id": "4Sw1Hh70l_BB",
        "outputId": "a0b7902f-a970-406b-b9d2-31c19fb537b5"
      },
      "source": [
        "!git lg1 --all\n",
        "# На графе видно разъединение веток, и кодга-то наступает момент, коогда надо их соединить"
      ],
      "execution_count": null,
      "outputs": [
        {
          "output_type": "stream",
          "text": [
            "* \u001b[1;31m876519c\u001b[m -\u001b[1;36m (HEAD -> master)\u001b[m \u001b[30mAdded second file Hello\u001b[m \u001b[32m(65 seconds ago)\u001b[m \u001b[1;34m<AlexChanin>\u001b[m\n",
            "\u001b[31m|\u001b[m * \u001b[1;31m4a0cbd4\u001b[m -\u001b[1;36m (task-1)\u001b[m \u001b[30mnew test snippet\u001b[m \u001b[32m(2 hours ago)\u001b[m \u001b[1;34m<AlexChanin>\u001b[m\n",
            "\u001b[31m|\u001b[m\u001b[31m/\u001b[m  \n",
            "* \u001b[1;31mba48ec8\u001b[m -\u001b[1;36m\u001b[m \u001b[30mDeleted 2 files\u001b[m \u001b[32m(3 hours ago)\u001b[m \u001b[1;34m<AlexChanin>\u001b[m\n",
            "* \u001b[1;31m54d2376\u001b[m -\u001b[1;36m\u001b[m \u001b[30mAdd 2 file and modified the first one\u001b[m \u001b[32m(4 hours ago)\u001b[m \u001b[1;34m<AlexChanin>\u001b[m\n",
            "* \u001b[1;31mc05a9ba\u001b[m -\u001b[1;36m\u001b[m \u001b[30mmessage_1\u001b[m \u001b[32m(5 hours ago)\u001b[m \u001b[1;34m<AlexChanin>\u001b[m"
          ],
          "name": "stdout"
        }
      ]
    },
    {
      "cell_type": "code",
      "metadata": {
        "colab": {
          "base_uri": "https://localhost:8080/"
        },
        "id": "b3O0QeljmEHo",
        "outputId": "bf5a06ca-b138-44a0-d083-29c824b1ec15"
      },
      "source": [
        "!cat file.md"
      ],
      "execution_count": null,
      "outputs": [
        {
          "output_type": "stream",
          "text": [
            " Hello world!"
          ],
          "name": "stdout"
        }
      ]
    },
    {
      "cell_type": "markdown",
      "metadata": {
        "id": "56YAjkgFmkQk"
      },
      "source": [
        "### Объединение (слияние) веток (merge)\n",
        "\n",
        "Подробнее о стратегии merge: http://habrahabr.ru/post/195674/"
      ]
    },
    {
      "cell_type": "code",
      "metadata": {
        "colab": {
          "base_uri": "https://localhost:8080/"
        },
        "id": "_xbGlbDsmcm5",
        "outputId": "0f666c1a-5a42-40ae-f177-50b42922147b"
      },
      "source": [
        "!git merge task-1 -m 'Finished #task-1'"
      ],
      "execution_count": null,
      "outputs": [
        {
          "output_type": "stream",
          "text": [
            "Merge made by the 'recursive' strategy.\n",
            " file.md | 3 \u001b[32m++\u001b[m\u001b[31m-\u001b[m\n",
            " 1 file changed, 2 insertions(+), 1 deletion(-)\n"
          ],
          "name": "stdout"
        }
      ]
    },
    {
      "cell_type": "code",
      "metadata": {
        "colab": {
          "base_uri": "https://localhost:8080/"
        },
        "id": "_2JFWzfqot5E",
        "outputId": "c32e49e3-8843-4a56-e35e-4ba190f3adb3"
      },
      "source": [
        "!cat file.md"
      ],
      "execution_count": null,
      "outputs": [
        {
          "output_type": "stream",
          "text": [
            " Hello world!\n",
            " New test branch."
          ],
          "name": "stdout"
        }
      ]
    },
    {
      "cell_type": "code",
      "metadata": {
        "colab": {
          "base_uri": "https://localhost:8080/"
        },
        "id": "xQX7sAwEo0q-",
        "outputId": "4f8bf86d-cb46-4177-ba99-e0147a59fc0a"
      },
      "source": [
        "!git lg1 --all"
      ],
      "execution_count": null,
      "outputs": [
        {
          "output_type": "stream",
          "text": [
            "*   \u001b[1;31mc96df36\u001b[m -\u001b[1;36m (HEAD -> master)\u001b[m \u001b[30mFinished #task-1\u001b[m \u001b[32m(67 seconds ago)\u001b[m \u001b[1;34m<AlexChanin>\u001b[m\n",
            "\u001b[31m|\u001b[m\u001b[32m\\\u001b[m  \n",
            "\u001b[31m|\u001b[m * \u001b[1;31m4a0cbd4\u001b[m -\u001b[1;36m (task-1)\u001b[m \u001b[30mnew test snippet\u001b[m \u001b[32m(3 hours ago)\u001b[m \u001b[1;34m<AlexChanin>\u001b[m\n",
            "* \u001b[32m|\u001b[m \u001b[1;31m876519c\u001b[m -\u001b[1;36m\u001b[m \u001b[30mAdded second file Hello\u001b[m \u001b[32m(13 minutes ago)\u001b[m \u001b[1;34m<AlexChanin>\u001b[m\n",
            "\u001b[32m|\u001b[m\u001b[32m/\u001b[m  \n",
            "* \u001b[1;31mba48ec8\u001b[m -\u001b[1;36m\u001b[m \u001b[30mDeleted 2 files\u001b[m \u001b[32m(4 hours ago)\u001b[m \u001b[1;34m<AlexChanin>\u001b[m\n",
            "* \u001b[1;31m54d2376\u001b[m -\u001b[1;36m\u001b[m \u001b[30mAdd 2 file and modified the first one\u001b[m \u001b[32m(4 hours ago)\u001b[m \u001b[1;34m<AlexChanin>\u001b[m\n",
            "* \u001b[1;31mc05a9ba\u001b[m -\u001b[1;36m\u001b[m \u001b[30mmessage_1\u001b[m \u001b[32m(5 hours ago)\u001b[m \u001b[1;34m<AlexChanin>\u001b[m"
          ],
          "name": "stdout"
        }
      ]
    },
    {
      "cell_type": "code",
      "metadata": {
        "colab": {
          "base_uri": "https://localhost:8080/"
        },
        "id": "lm3ZYCw8o-TE",
        "outputId": "8032620f-0bef-47c4-d7bb-85e4c06043b7"
      },
      "source": [
        "!ls"
      ],
      "execution_count": null,
      "outputs": [
        {
          "output_type": "stream",
          "text": [
            "file2.md  file.md\n"
          ],
          "name": "stdout"
        }
      ]
    },
    {
      "cell_type": "code",
      "metadata": {
        "colab": {
          "base_uri": "https://localhost:8080/"
        },
        "id": "0xc-ojAzpREX",
        "outputId": "e4b1e09d-59e6-4ed6-8ea3-aacb880e6234"
      },
      "source": [
        "!git checkout 876519c"
      ],
      "execution_count": null,
      "outputs": [
        {
          "output_type": "stream",
          "text": [
            "Note: checking out '876519c'.\n",
            "\n",
            "You are in 'detached HEAD' state. You can look around, make experimental\n",
            "changes and commit them, and you can discard any commits you make in this\n",
            "state without impacting any branches by performing another checkout.\n",
            "\n",
            "If you want to create a new branch to retain commits you create, you may\n",
            "do so (now or later) by using -b with the checkout command again. Example:\n",
            "\n",
            "  git checkout -b <new-branch-name>\n",
            "\n",
            "HEAD is now at 876519c Added second file Hello\n"
          ],
          "name": "stdout"
        }
      ]
    },
    {
      "cell_type": "code",
      "metadata": {
        "colab": {
          "base_uri": "https://localhost:8080/"
        },
        "id": "bvLGTssfpnwd",
        "outputId": "47c55ca3-e377-4d08-f332-b9cbc49027f2"
      },
      "source": [
        "!cat file.md"
      ],
      "execution_count": null,
      "outputs": [
        {
          "output_type": "stream",
          "text": [
            " Hello world!"
          ],
          "name": "stdout"
        }
      ]
    },
    {
      "cell_type": "code",
      "metadata": {
        "colab": {
          "base_uri": "https://localhost:8080/"
        },
        "id": "X4d-8d9qptYK",
        "outputId": "04f7bf75-e099-4ec9-8689-8451c0654f50"
      },
      "source": [
        "!git checkout master"
      ],
      "execution_count": null,
      "outputs": [
        {
          "output_type": "stream",
          "text": [
            "Previous HEAD position was 876519c Added second file Hello\n",
            "Switched to branch 'master'\n"
          ],
          "name": "stdout"
        }
      ]
    },
    {
      "cell_type": "code",
      "metadata": {
        "colab": {
          "base_uri": "https://localhost:8080/"
        },
        "id": "NHdFvF-Vpvwv",
        "outputId": "d31b6d6c-469d-471c-e496-916a69299f94"
      },
      "source": [
        "!git lg1 --all"
      ],
      "execution_count": null,
      "outputs": [
        {
          "output_type": "stream",
          "text": [
            "*   \u001b[1;31mc96df36\u001b[m -\u001b[1;36m (HEAD -> master)\u001b[m \u001b[30mFinished #task-1\u001b[m \u001b[32m(5 minutes ago)\u001b[m \u001b[1;34m<AlexChanin>\u001b[m\n",
            "\u001b[31m|\u001b[m\u001b[32m\\\u001b[m  \n",
            "\u001b[31m|\u001b[m * \u001b[1;31m4a0cbd4\u001b[m -\u001b[1;36m (task-1)\u001b[m \u001b[30mnew test snippet\u001b[m \u001b[32m(3 hours ago)\u001b[m \u001b[1;34m<AlexChanin>\u001b[m\n",
            "* \u001b[32m|\u001b[m \u001b[1;31m876519c\u001b[m -\u001b[1;36m\u001b[m \u001b[30mAdded second file Hello\u001b[m \u001b[32m(17 minutes ago)\u001b[m \u001b[1;34m<AlexChanin>\u001b[m\n",
            "\u001b[32m|\u001b[m\u001b[32m/\u001b[m  \n",
            "* \u001b[1;31mba48ec8\u001b[m -\u001b[1;36m\u001b[m \u001b[30mDeleted 2 files\u001b[m \u001b[32m(4 hours ago)\u001b[m \u001b[1;34m<AlexChanin>\u001b[m\n",
            "* \u001b[1;31m54d2376\u001b[m -\u001b[1;36m\u001b[m \u001b[30mAdd 2 file and modified the first one\u001b[m \u001b[32m(4 hours ago)\u001b[m \u001b[1;34m<AlexChanin>\u001b[m\n",
            "* \u001b[1;31mc05a9ba\u001b[m -\u001b[1;36m\u001b[m \u001b[30mmessage_1\u001b[m \u001b[32m(5 hours ago)\u001b[m \u001b[1;34m<AlexChanin>\u001b[m"
          ],
          "name": "stdout"
        }
      ]
    },
    {
      "cell_type": "code",
      "metadata": {
        "colab": {
          "base_uri": "https://localhost:8080/"
        },
        "id": "Qr8s4khbp2dI",
        "outputId": "d5a022a7-46d0-4294-c6a3-f18ed8090fa9"
      },
      "source": [
        "!git checkout -b task-2"
      ],
      "execution_count": null,
      "outputs": [
        {
          "output_type": "stream",
          "text": [
            "Switched to a new branch 'task-2'\n"
          ],
          "name": "stdout"
        }
      ]
    },
    {
      "cell_type": "code",
      "metadata": {
        "colab": {
          "base_uri": "https://localhost:8080/"
        },
        "id": "WTbTpgxcqCB3",
        "outputId": "8eb4305e-f267-4978-e705-3bdc6ff78c34"
      },
      "source": [
        "!git lg1 --all"
      ],
      "execution_count": null,
      "outputs": [
        {
          "output_type": "stream",
          "text": [
            "*   \u001b[1;31mc96df36\u001b[m -\u001b[1;36m (HEAD -> task-2, master)\u001b[m \u001b[30mFinished #task-1\u001b[m \u001b[32m(6 minutes ago)\u001b[m \u001b[1;34m<AlexChanin>\u001b[m\n",
            "\u001b[31m|\u001b[m\u001b[32m\\\u001b[m  \n",
            "\u001b[31m|\u001b[m * \u001b[1;31m4a0cbd4\u001b[m -\u001b[1;36m (task-1)\u001b[m \u001b[30mnew test snippet\u001b[m \u001b[32m(3 hours ago)\u001b[m \u001b[1;34m<AlexChanin>\u001b[m\n",
            "* \u001b[32m|\u001b[m \u001b[1;31m876519c\u001b[m -\u001b[1;36m\u001b[m \u001b[30mAdded second file Hello\u001b[m \u001b[32m(18 minutes ago)\u001b[m \u001b[1;34m<AlexChanin>\u001b[m\n",
            "\u001b[32m|\u001b[m\u001b[32m/\u001b[m  \n",
            "* \u001b[1;31mba48ec8\u001b[m -\u001b[1;36m\u001b[m \u001b[30mDeleted 2 files\u001b[m \u001b[32m(4 hours ago)\u001b[m \u001b[1;34m<AlexChanin>\u001b[m\n",
            "* \u001b[1;31m54d2376\u001b[m -\u001b[1;36m\u001b[m \u001b[30mAdd 2 file and modified the first one\u001b[m \u001b[32m(4 hours ago)\u001b[m \u001b[1;34m<AlexChanin>\u001b[m\n",
            "* \u001b[1;31mc05a9ba\u001b[m -\u001b[1;36m\u001b[m \u001b[30mmessage_1\u001b[m \u001b[32m(5 hours ago)\u001b[m \u001b[1;34m<AlexChanin>\u001b[m"
          ],
          "name": "stdout"
        }
      ]
    },
    {
      "cell_type": "code",
      "metadata": {
        "colab": {
          "base_uri": "https://localhost:8080/"
        },
        "id": "oQl0rEk1qDbD",
        "outputId": "e4d20c6d-ad7a-42eb-c33f-ada6c9f0c917"
      },
      "source": [
        "%%writefile file.md\n",
        " Hello world!\n",
        " New task-2 branch."
      ],
      "execution_count": null,
      "outputs": [
        {
          "output_type": "stream",
          "text": [
            "Overwriting file.md\n"
          ],
          "name": "stdout"
        }
      ]
    },
    {
      "cell_type": "code",
      "metadata": {
        "colab": {
          "base_uri": "https://localhost:8080/"
        },
        "id": "zJH7fVVPqiGT",
        "outputId": "e1d2eff6-8901-4b09-eaf5-364a453c1a4b"
      },
      "source": [
        "!git commit -a -m 'Renamed branch to task-2 in file.md'"
      ],
      "execution_count": null,
      "outputs": [
        {
          "output_type": "stream",
          "text": [
            "[task-2 5fefbec] Renamed branch to task-2 in file.md\n",
            " 1 file changed, 1 insertion(+), 1 deletion(-)\n"
          ],
          "name": "stdout"
        }
      ]
    },
    {
      "cell_type": "code",
      "metadata": {
        "colab": {
          "base_uri": "https://localhost:8080/"
        },
        "id": "v9KWz39Aq3_I",
        "outputId": "7282e2ee-e783-4164-9c66-a5b57301f75d"
      },
      "source": [
        "!git lg1 --all"
      ],
      "execution_count": null,
      "outputs": [
        {
          "output_type": "stream",
          "text": [
            "* \u001b[1;31m5fefbec\u001b[m -\u001b[1;36m (HEAD -> task-2)\u001b[m \u001b[30mRenamed branch to task-2 in file.md\u001b[m \u001b[32m(7 seconds ago)\u001b[m \u001b[1;34m<AlexChanin>\u001b[m\n",
            "*   \u001b[1;31mc96df36\u001b[m -\u001b[1;36m (master)\u001b[m \u001b[30mFinished #task-1\u001b[m \u001b[32m(10 minutes ago)\u001b[m \u001b[1;34m<AlexChanin>\u001b[m\n",
            "\u001b[32m|\u001b[m\u001b[33m\\\u001b[m  \n",
            "\u001b[32m|\u001b[m * \u001b[1;31m4a0cbd4\u001b[m -\u001b[1;36m (task-1)\u001b[m \u001b[30mnew test snippet\u001b[m \u001b[32m(3 hours ago)\u001b[m \u001b[1;34m<AlexChanin>\u001b[m\n",
            "* \u001b[33m|\u001b[m \u001b[1;31m876519c\u001b[m -\u001b[1;36m\u001b[m \u001b[30mAdded second file Hello\u001b[m \u001b[32m(22 minutes ago)\u001b[m \u001b[1;34m<AlexChanin>\u001b[m\n",
            "\u001b[33m|\u001b[m\u001b[33m/\u001b[m  \n",
            "* \u001b[1;31mba48ec8\u001b[m -\u001b[1;36m\u001b[m \u001b[30mDeleted 2 files\u001b[m \u001b[32m(4 hours ago)\u001b[m \u001b[1;34m<AlexChanin>\u001b[m\n",
            "* \u001b[1;31m54d2376\u001b[m -\u001b[1;36m\u001b[m \u001b[30mAdd 2 file and modified the first one\u001b[m \u001b[32m(4 hours ago)\u001b[m \u001b[1;34m<AlexChanin>\u001b[m\n",
            "* \u001b[1;31mc05a9ba\u001b[m -\u001b[1;36m\u001b[m \u001b[30mmessage_1\u001b[m \u001b[32m(5 hours ago)\u001b[m \u001b[1;34m<AlexChanin>\u001b[m"
          ],
          "name": "stdout"
        }
      ]
    },
    {
      "cell_type": "code",
      "metadata": {
        "colab": {
          "base_uri": "https://localhost:8080/"
        },
        "id": "29_HJ9Lmq5uk",
        "outputId": "2a55f4c3-c8f3-400f-dd75-3d5237be33fc"
      },
      "source": [
        "!git checkout master"
      ],
      "execution_count": null,
      "outputs": [
        {
          "output_type": "stream",
          "text": [
            "Switched to branch 'master'\n"
          ],
          "name": "stdout"
        }
      ]
    },
    {
      "cell_type": "code",
      "metadata": {
        "colab": {
          "base_uri": "https://localhost:8080/"
        },
        "id": "IA3GtGMiq_nc",
        "outputId": "1e288991-d73b-4834-e9a0-1f029740f697"
      },
      "source": [
        "!git merge task-2 -m 'Finished #task-2'"
      ],
      "execution_count": null,
      "outputs": [
        {
          "output_type": "stream",
          "text": [
            "Updating c96df36..5fefbec\n",
            "Fast-forward (no commit created; -m option ignored)\n",
            " file.md | 2 \u001b[32m+\u001b[m\u001b[31m-\u001b[m\n",
            " 1 file changed, 1 insertion(+), 1 deletion(-)\n"
          ],
          "name": "stdout"
        }
      ]
    },
    {
      "cell_type": "markdown",
      "metadata": {
        "id": "RIIRQgrgr87v"
      },
      "source": [
        "Гит заметил, что над файлом в ветке мастер изменений не было и он не стал делать коммит для объединения, а как бы наростил дерево ветками коммитов из task-2. Он всегда пытается сделать этот fast-froward. Такое поведение гита не приемлемо для проекта, то при объединении надо указать флаг --no-ff"
      ]
    },
    {
      "cell_type": "code",
      "metadata": {
        "colab": {
          "base_uri": "https://localhost:8080/"
        },
        "id": "tsnaZK_HryZU",
        "outputId": "6ee7833a-68c0-4727-db03-4fafa3033cb0"
      },
      "source": [
        "!git lg1 --all"
      ],
      "execution_count": null,
      "outputs": [
        {
          "output_type": "stream",
          "text": [
            "* \u001b[1;31m5fefbec\u001b[m -\u001b[1;36m (HEAD -> master, task-2)\u001b[m \u001b[30mRenamed branch to task-2 in file.md\u001b[m \u001b[32m(7 minutes ago)\u001b[m \u001b[1;34m<AlexChanin>\u001b[m\n",
            "*   \u001b[1;31mc96df36\u001b[m -\u001b[1;36m\u001b[m \u001b[30mFinished #task-1\u001b[m \u001b[32m(16 minutes ago)\u001b[m \u001b[1;34m<AlexChanin>\u001b[m\n",
            "\u001b[32m|\u001b[m\u001b[33m\\\u001b[m  \n",
            "\u001b[32m|\u001b[m * \u001b[1;31m4a0cbd4\u001b[m -\u001b[1;36m (task-1)\u001b[m \u001b[30mnew test snippet\u001b[m \u001b[32m(3 hours ago)\u001b[m \u001b[1;34m<AlexChanin>\u001b[m\n",
            "* \u001b[33m|\u001b[m \u001b[1;31m876519c\u001b[m -\u001b[1;36m\u001b[m \u001b[30mAdded second file Hello\u001b[m \u001b[32m(29 minutes ago)\u001b[m \u001b[1;34m<AlexChanin>\u001b[m\n",
            "\u001b[33m|\u001b[m\u001b[33m/\u001b[m  \n",
            "* \u001b[1;31mba48ec8\u001b[m -\u001b[1;36m\u001b[m \u001b[30mDeleted 2 files\u001b[m \u001b[32m(4 hours ago)\u001b[m \u001b[1;34m<AlexChanin>\u001b[m\n",
            "* \u001b[1;31m54d2376\u001b[m -\u001b[1;36m\u001b[m \u001b[30mAdd 2 file and modified the first one\u001b[m \u001b[32m(4 hours ago)\u001b[m \u001b[1;34m<AlexChanin>\u001b[m\n",
            "* \u001b[1;31mc05a9ba\u001b[m -\u001b[1;36m\u001b[m \u001b[30mmessage_1\u001b[m \u001b[32m(5 hours ago)\u001b[m \u001b[1;34m<AlexChanin>\u001b[m"
          ],
          "name": "stdout"
        }
      ]
    },
    {
      "cell_type": "markdown",
      "metadata": {
        "id": "Qjk_lF_XtYkF"
      },
      "source": [
        "### REBASE - Перепостроение веток\n",
        "\n",
        "Это как merge только чуть-чуть иначе"
      ]
    },
    {
      "cell_type": "markdown",
      "metadata": {
        "id": "ede03709uOXA"
      },
      "source": [
        "Чта использовать merge или rebase?\n",
        "\n",
        "В случае объединения  может появится дополнительный коммит. В случае перепостроения появится новый коммит, который будет копией предыдущего и самая главная тут проблема, что у этого нового коммита будет новый хэш, что может вызвать некоторые проблемы при работе с удаленными репозиториями."
      ]
    },
    {
      "cell_type": "markdown",
      "metadata": {
        "id": "2Y5QO72mvDQd"
      },
      "source": [
        "### Конфликты веток при слиянии\n",
        "\n",
        "Иногда они возникают, как их разрешать.\n",
        "\n",
        "Гит пытается для начала решить все в автоматическом режиме. Но если различия в одной строке, то потребуется решения человека."
      ]
    },
    {
      "cell_type": "code",
      "metadata": {
        "colab": {
          "base_uri": "https://localhost:8080/"
        },
        "id": "oqBRPKCmseyA",
        "outputId": "7e61b733-daa9-45a7-a324-a75688cd5ce7"
      },
      "source": [
        "!cat file.md"
      ],
      "execution_count": null,
      "outputs": [
        {
          "output_type": "stream",
          "text": [
            " Hello world!\n",
            " New task-2 branch."
          ],
          "name": "stdout"
        }
      ]
    },
    {
      "cell_type": "code",
      "metadata": {
        "colab": {
          "base_uri": "https://localhost:8080/"
        },
        "id": "6_EYN94nwEou",
        "outputId": "4ba94d49-076d-4127-98d6-cbc725e6e31e"
      },
      "source": [
        "%%writefile file.md\n",
        " Привет мир!\n",
        " New task-2 branch."
      ],
      "execution_count": null,
      "outputs": [
        {
          "output_type": "stream",
          "text": [
            "Overwriting file.md\n"
          ],
          "name": "stdout"
        }
      ]
    },
    {
      "cell_type": "code",
      "metadata": {
        "colab": {
          "base_uri": "https://localhost:8080/"
        },
        "id": "2oGvXpc2wIJ5",
        "outputId": "3b695c31-9cd8-4c62-fe03-da351c268468"
      },
      "source": [
        "!git commit -a -m 'Title in Russian'"
      ],
      "execution_count": null,
      "outputs": [
        {
          "output_type": "stream",
          "text": [
            "[master be558f0] Title in Russian\n",
            " 1 file changed, 1 insertion(+), 1 deletion(-)\n"
          ],
          "name": "stdout"
        }
      ]
    },
    {
      "cell_type": "code",
      "metadata": {
        "colab": {
          "base_uri": "https://localhost:8080/"
        },
        "id": "HPcJC9RowaCE",
        "outputId": "309f15df-383b-4bbb-dc6f-694e5c87c543"
      },
      "source": [
        " !git lg1"
      ],
      "execution_count": null,
      "outputs": [
        {
          "output_type": "stream",
          "text": [
            "* \u001b[1;31mbe558f0\u001b[m -\u001b[1;36m (HEAD -> master)\u001b[m \u001b[30mTitle in Russian\u001b[m \u001b[32m(34 seconds ago)\u001b[m \u001b[1;34m<AlexChanin>\u001b[m\n",
            "* \u001b[1;31m5fefbec\u001b[m -\u001b[1;36m (task-2)\u001b[m \u001b[30mRenamed branch to task-2 in file.md\u001b[m \u001b[32m(25 minutes ago)\u001b[m \u001b[1;34m<AlexChanin>\u001b[m\n",
            "*   \u001b[1;31mc96df36\u001b[m -\u001b[1;36m\u001b[m \u001b[30mFinished #task-1\u001b[m \u001b[32m(34 minutes ago)\u001b[m \u001b[1;34m<AlexChanin>\u001b[m\n",
            "\u001b[32m|\u001b[m\u001b[33m\\\u001b[m  \n",
            "\u001b[32m|\u001b[m * \u001b[1;31m4a0cbd4\u001b[m -\u001b[1;36m (task-1)\u001b[m \u001b[30mnew test snippet\u001b[m \u001b[32m(3 hours ago)\u001b[m \u001b[1;34m<AlexChanin>\u001b[m\n",
            "* \u001b[33m|\u001b[m \u001b[1;31m876519c\u001b[m -\u001b[1;36m\u001b[m \u001b[30mAdded second file Hello\u001b[m \u001b[32m(46 minutes ago)\u001b[m \u001b[1;34m<AlexChanin>\u001b[m\n",
            "\u001b[33m|\u001b[m\u001b[33m/\u001b[m  \n",
            "* \u001b[1;31mba48ec8\u001b[m -\u001b[1;36m\u001b[m \u001b[30mDeleted 2 files\u001b[m \u001b[32m(4 hours ago)\u001b[m \u001b[1;34m<AlexChanin>\u001b[m\n",
            "* \u001b[1;31m54d2376\u001b[m -\u001b[1;36m\u001b[m \u001b[30mAdd 2 file and modified the first one\u001b[m \u001b[32m(5 hours ago)\u001b[m \u001b[1;34m<AlexChanin>\u001b[m\n",
            "* \u001b[1;31mc05a9ba\u001b[m -\u001b[1;36m\u001b[m \u001b[30mmessage_1\u001b[m \u001b[32m(6 hours ago)\u001b[m \u001b[1;34m<AlexChanin>\u001b[m"
          ],
          "name": "stdout"
        }
      ]
    },
    {
      "cell_type": "code",
      "metadata": {
        "colab": {
          "base_uri": "https://localhost:8080/"
        },
        "id": "E2Vty-w5whZr",
        "outputId": "3a7af048-31ea-429a-8592-c89156b2168b"
      },
      "source": [
        "!git checkout task-2"
      ],
      "execution_count": null,
      "outputs": [
        {
          "output_type": "stream",
          "text": [
            "Switched to branch 'task-2'\n"
          ],
          "name": "stdout"
        }
      ]
    },
    {
      "cell_type": "code",
      "metadata": {
        "colab": {
          "base_uri": "https://localhost:8080/"
        },
        "id": "Yz-5NkAbw6NN",
        "outputId": "24ea1485-4826-4715-e36b-bc612a6b64f4"
      },
      "source": [
        "!cat file.md"
      ],
      "execution_count": null,
      "outputs": [
        {
          "output_type": "stream",
          "text": [
            " Hello world!\n",
            " New task-2 branch."
          ],
          "name": "stdout"
        }
      ]
    },
    {
      "cell_type": "code",
      "metadata": {
        "colab": {
          "base_uri": "https://localhost:8080/"
        },
        "id": "ed1oDs-GxKQT",
        "outputId": "f2f81422-f9a1-4ba4-90c4-7a46c20e4244"
      },
      "source": [
        "!git checkout -b engtitle"
      ],
      "execution_count": null,
      "outputs": [
        {
          "output_type": "stream",
          "text": [
            "Switched to a new branch 'engtitle'\n"
          ],
          "name": "stdout"
        }
      ]
    },
    {
      "cell_type": "code",
      "metadata": {
        "colab": {
          "base_uri": "https://localhost:8080/"
        },
        "id": "BvNJzBrXxROx",
        "outputId": "cf2e8fc6-0245-425c-8f2f-a5aaff9e691b"
      },
      "source": [
        "%%writefile file.md\n",
        " Hello world!!!!\n",
        " New task-2 branch."
      ],
      "execution_count": null,
      "outputs": [
        {
          "output_type": "stream",
          "text": [
            "Overwriting file.md\n"
          ],
          "name": "stdout"
        }
      ]
    },
    {
      "cell_type": "code",
      "metadata": {
        "colab": {
          "base_uri": "https://localhost:8080/"
        },
        "id": "iqmLZCvTxuNz",
        "outputId": "e527601c-9ea4-424f-a8f6-70898b3234dc"
      },
      "source": [
        "!git commit -a -m 'SuperTitle in English'"
      ],
      "execution_count": null,
      "outputs": [
        {
          "output_type": "stream",
          "text": [
            "[engtitle d58614f] SuperTitle in English\n",
            " 1 file changed, 1 insertion(+), 1 deletion(-)\n"
          ],
          "name": "stdout"
        }
      ]
    },
    {
      "cell_type": "code",
      "metadata": {
        "colab": {
          "base_uri": "https://localhost:8080/"
        },
        "id": "LUTxKOVsx1mf",
        "outputId": "8ac2d299-5623-4ce8-bb18-b36506ae50cc"
      },
      "source": [
        " !git lg1 --all"
      ],
      "execution_count": null,
      "outputs": [
        {
          "output_type": "stream",
          "text": [
            "* \u001b[1;31md58614f\u001b[m -\u001b[1;36m (HEAD -> engtitle)\u001b[m \u001b[30mSuperTitle in English\u001b[m \u001b[32m(47 seconds ago)\u001b[m \u001b[1;34m<AlexChanin>\u001b[m\n",
            "\u001b[31m|\u001b[m * \u001b[1;31mbe558f0\u001b[m -\u001b[1;36m (master)\u001b[m \u001b[30mTitle in Russian\u001b[m \u001b[32m(7 minutes ago)\u001b[m \u001b[1;34m<AlexChanin>\u001b[m\n",
            "\u001b[31m|\u001b[m\u001b[31m/\u001b[m  \n",
            "* \u001b[1;31m5fefbec\u001b[m -\u001b[1;36m (task-2)\u001b[m \u001b[30mRenamed branch to task-2 in file.md\u001b[m \u001b[32m(31 minutes ago)\u001b[m \u001b[1;34m<AlexChanin>\u001b[m\n",
            "*   \u001b[1;31mc96df36\u001b[m -\u001b[1;36m\u001b[m \u001b[30mFinished #task-1\u001b[m \u001b[32m(41 minutes ago)\u001b[m \u001b[1;34m<AlexChanin>\u001b[m\n",
            "\u001b[33m|\u001b[m\u001b[34m\\\u001b[m  \n",
            "\u001b[33m|\u001b[m * \u001b[1;31m4a0cbd4\u001b[m -\u001b[1;36m (task-1)\u001b[m \u001b[30mnew test snippet\u001b[m \u001b[32m(3 hours ago)\u001b[m \u001b[1;34m<AlexChanin>\u001b[m\n",
            "* \u001b[34m|\u001b[m \u001b[1;31m876519c\u001b[m -\u001b[1;36m\u001b[m \u001b[30mAdded second file Hello\u001b[m \u001b[32m(53 minutes ago)\u001b[m \u001b[1;34m<AlexChanin>\u001b[m\n",
            "\u001b[34m|\u001b[m\u001b[34m/\u001b[m  \n",
            "* \u001b[1;31mba48ec8\u001b[m -\u001b[1;36m\u001b[m \u001b[30mDeleted 2 files\u001b[m \u001b[32m(4 hours ago)\u001b[m \u001b[1;34m<AlexChanin>\u001b[m\n",
            "* \u001b[1;31m54d2376\u001b[m -\u001b[1;36m\u001b[m \u001b[30mAdd 2 file and modified the first one\u001b[m \u001b[32m(5 hours ago)\u001b[m \u001b[1;34m<AlexChanin>\u001b[m\n",
            "* \u001b[1;31mc05a9ba\u001b[m -\u001b[1;36m\u001b[m \u001b[30mmessage_1\u001b[m \u001b[32m(6 hours ago)\u001b[m \u001b[1;34m<AlexChanin>\u001b[m"
          ],
          "name": "stdout"
        }
      ]
    },
    {
      "cell_type": "code",
      "metadata": {
        "colab": {
          "base_uri": "https://localhost:8080/"
        },
        "id": "uzImRYS8x_-b",
        "outputId": "d30ddb4f-07fd-4a99-826f-ca8030d31c1f"
      },
      "source": [
        " !git checkout master"
      ],
      "execution_count": null,
      "outputs": [
        {
          "output_type": "stream",
          "text": [
            "Switched to branch 'master'\n"
          ],
          "name": "stdout"
        }
      ]
    },
    {
      "cell_type": "code",
      "metadata": {
        "colab": {
          "base_uri": "https://localhost:8080/"
        },
        "id": "5wYGGBgzyMWJ",
        "outputId": "5bda47cb-0b7c-4131-8c83-f2c45c277446"
      },
      "source": [
        "!git merge engtitle"
      ],
      "execution_count": null,
      "outputs": [
        {
          "output_type": "stream",
          "text": [
            "Auto-merging file.md\n",
            "CONFLICT (content): Merge conflict in file.md\n",
            "Automatic merge failed; fix conflicts and then commit the result.\n"
          ],
          "name": "stdout"
        }
      ]
    },
    {
      "cell_type": "code",
      "metadata": {
        "colab": {
          "base_uri": "https://localhost:8080/"
        },
        "id": "03wsy11ZzO1r",
        "outputId": "a3a23849-8d02-4ef9-dc7a-ba6ed65fc8a4"
      },
      "source": [
        "!cat file.md"
      ],
      "execution_count": null,
      "outputs": [
        {
          "output_type": "stream",
          "text": [
            "<<<<<<< HEAD\n",
            " Привет мир!\n",
            "=======\n",
            " Hello world!!!!\n",
            ">>>>>>> engtitle\n",
            " New task-2 branch."
          ],
          "name": "stdout"
        }
      ]
    },
    {
      "cell_type": "code",
      "metadata": {
        "colab": {
          "base_uri": "https://localhost:8080/"
        },
        "id": "AEqgeaCczSZI",
        "outputId": "1d6d681d-ed27-49a7-a688-c7814eea0907"
      },
      "source": [
        "%%writefile file.md\n",
        " Bye-bye!\n",
        " New task-2 branch."
      ],
      "execution_count": null,
      "outputs": [
        {
          "output_type": "stream",
          "text": [
            "Overwriting file.md\n"
          ],
          "name": "stdout"
        }
      ]
    },
    {
      "cell_type": "code",
      "metadata": {
        "colab": {
          "base_uri": "https://localhost:8080/"
        },
        "id": "YUwCkX_gzdOR",
        "outputId": "9dfc3a66-5a54-4c61-bf64-0259d50c95bb"
      },
      "source": [
        "!git commit -a -m 'Bye'"
      ],
      "execution_count": null,
      "outputs": [
        {
          "output_type": "stream",
          "text": [
            "[master 13a88c1] Bye\n"
          ],
          "name": "stdout"
        }
      ]
    },
    {
      "cell_type": "code",
      "metadata": {
        "colab": {
          "base_uri": "https://localhost:8080/"
        },
        "id": "e-c2hqF_ziDF",
        "outputId": "d35708fb-45f6-4081-b777-7959e5b4db10"
      },
      "source": [
        "!git lg1 --all"
      ],
      "execution_count": null,
      "outputs": [
        {
          "output_type": "stream",
          "text": [
            "*   \u001b[1;31m13a88c1\u001b[m -\u001b[1;36m (HEAD -> master)\u001b[m \u001b[30mBye\u001b[m \u001b[32m(14 seconds ago)\u001b[m \u001b[1;34m<AlexChanin>\u001b[m\n",
            "\u001b[31m|\u001b[m\u001b[32m\\\u001b[m  \n",
            "\u001b[31m|\u001b[m * \u001b[1;31md58614f\u001b[m -\u001b[1;36m (engtitle)\u001b[m \u001b[30mSuperTitle in English\u001b[m \u001b[32m(8 minutes ago)\u001b[m \u001b[1;34m<AlexChanin>\u001b[m\n",
            "* \u001b[32m|\u001b[m \u001b[1;31mbe558f0\u001b[m -\u001b[1;36m\u001b[m \u001b[30mTitle in Russian\u001b[m \u001b[32m(14 minutes ago)\u001b[m \u001b[1;34m<AlexChanin>\u001b[m\n",
            "\u001b[32m|\u001b[m\u001b[32m/\u001b[m  \n",
            "* \u001b[1;31m5fefbec\u001b[m -\u001b[1;36m (task-2)\u001b[m \u001b[30mRenamed branch to task-2 in file.md\u001b[m \u001b[32m(38 minutes ago)\u001b[m \u001b[1;34m<AlexChanin>\u001b[m\n",
            "*   \u001b[1;31mc96df36\u001b[m -\u001b[1;36m\u001b[m \u001b[30mFinished #task-1\u001b[m \u001b[32m(47 minutes ago)\u001b[m \u001b[1;34m<AlexChanin>\u001b[m\n",
            "\u001b[33m|\u001b[m\u001b[34m\\\u001b[m  \n",
            "\u001b[33m|\u001b[m * \u001b[1;31m4a0cbd4\u001b[m -\u001b[1;36m (task-1)\u001b[m \u001b[30mnew test snippet\u001b[m \u001b[32m(3 hours ago)\u001b[m \u001b[1;34m<AlexChanin>\u001b[m\n",
            "* \u001b[34m|\u001b[m \u001b[1;31m876519c\u001b[m -\u001b[1;36m\u001b[m \u001b[30mAdded second file Hello\u001b[m \u001b[32m(60 minutes ago)\u001b[m \u001b[1;34m<AlexChanin>\u001b[m\n",
            "\u001b[34m|\u001b[m\u001b[34m/\u001b[m  \n",
            "* \u001b[1;31mba48ec8\u001b[m -\u001b[1;36m\u001b[m \u001b[30mDeleted 2 files\u001b[m \u001b[32m(4 hours ago)\u001b[m \u001b[1;34m<AlexChanin>\u001b[m\n",
            "* \u001b[1;31m54d2376\u001b[m -\u001b[1;36m\u001b[m \u001b[30mAdd 2 file and modified the first one\u001b[m \u001b[32m(5 hours ago)\u001b[m \u001b[1;34m<AlexChanin>\u001b[m\n",
            "* \u001b[1;31mc05a9ba\u001b[m -\u001b[1;36m\u001b[m \u001b[30mmessage_1\u001b[m \u001b[32m(6 hours ago)\u001b[m \u001b[1;34m<AlexChanin>\u001b[m"
          ],
          "name": "stdout"
        }
      ]
    },
    {
      "cell_type": "markdown",
      "metadata": {
        "id": "oef3IwGYz1NE"
      },
      "source": [
        "В случае трехстроннего слияния будет еще ветка base, которая будет говорить последнего общего родителя."
      ]
    },
    {
      "cell_type": "markdown",
      "metadata": {
        "id": "xEjP5qsf0PMa"
      },
      "source": [
        "### Конфликты веток при перепостроении"
      ]
    },
    {
      "cell_type": "code",
      "metadata": {
        "colab": {
          "base_uri": "https://localhost:8080/"
        },
        "id": "CMu4FgNzzldx",
        "outputId": "9ca9581d-bd60-47bd-dea0-2c83268af500"
      },
      "source": [
        " !git status"
      ],
      "execution_count": null,
      "outputs": [
        {
          "output_type": "stream",
          "text": [
            "On branch master\n",
            "nothing to commit, working tree clean\n"
          ],
          "name": "stdout"
        }
      ]
    },
    {
      "cell_type": "code",
      "metadata": {
        "colab": {
          "base_uri": "https://localhost:8080/"
        },
        "id": "KXvxK262zo7n",
        "outputId": "92731601-231f-4bec-ecc6-36d9c4478d18"
      },
      "source": [
        "%%writefile file.md\n",
        " Bye-bye!!!\n",
        " New task-2 branch."
      ],
      "execution_count": null,
      "outputs": [
        {
          "output_type": "stream",
          "text": [
            "Overwriting file.md\n"
          ],
          "name": "stdout"
        }
      ]
    },
    {
      "cell_type": "code",
      "metadata": {
        "colab": {
          "base_uri": "https://localhost:8080/"
        },
        "id": "-SXVsaRi0n0s",
        "outputId": "7a93cee2-0d4d-421f-eb57-408bc158def9"
      },
      "source": [
        "!git commit -a -m 'Bye!!!'"
      ],
      "execution_count": null,
      "outputs": [
        {
          "output_type": "stream",
          "text": [
            "[master 604c576] Bye!!!\n",
            " 1 file changed, 1 insertion(+), 1 deletion(-)\n"
          ],
          "name": "stdout"
        }
      ]
    },
    {
      "cell_type": "code",
      "metadata": {
        "colab": {
          "base_uri": "https://localhost:8080/"
        },
        "id": "O5TlIQDa0p5k",
        "outputId": "37697fc8-6858-4204-c89d-308ee26066df"
      },
      "source": [
        "!git lg1"
      ],
      "execution_count": null,
      "outputs": [
        {
          "output_type": "stream",
          "text": [
            "* \u001b[1;31m604c576\u001b[m -\u001b[1;36m (HEAD -> master)\u001b[m \u001b[30mBye!!!\u001b[m \u001b[32m(22 seconds ago)\u001b[m \u001b[1;34m<AlexChanin>\u001b[m\n",
            "*   \u001b[1;31m13a88c1\u001b[m -\u001b[1;36m\u001b[m \u001b[30mBye\u001b[m \u001b[32m(5 minutes ago)\u001b[m \u001b[1;34m<AlexChanin>\u001b[m\n",
            "\u001b[32m|\u001b[m\u001b[33m\\\u001b[m  \n",
            "\u001b[32m|\u001b[m * \u001b[1;31md58614f\u001b[m -\u001b[1;36m (engtitle)\u001b[m \u001b[30mSuperTitle in English\u001b[m \u001b[32m(13 minutes ago)\u001b[m \u001b[1;34m<AlexChanin>\u001b[m\n",
            "* \u001b[33m|\u001b[m \u001b[1;31mbe558f0\u001b[m -\u001b[1;36m\u001b[m \u001b[30mTitle in Russian\u001b[m \u001b[32m(19 minutes ago)\u001b[m \u001b[1;34m<AlexChanin>\u001b[m\n",
            "\u001b[33m|\u001b[m\u001b[33m/\u001b[m  \n",
            "* \u001b[1;31m5fefbec\u001b[m -\u001b[1;36m (task-2)\u001b[m \u001b[30mRenamed branch to task-2 in file.md\u001b[m \u001b[32m(43 minutes ago)\u001b[m \u001b[1;34m<AlexChanin>\u001b[m\n",
            "*   \u001b[1;31mc96df36\u001b[m -\u001b[1;36m\u001b[m \u001b[30mFinished #task-1\u001b[m \u001b[32m(53 minutes ago)\u001b[m \u001b[1;34m<AlexChanin>\u001b[m\n",
            "\u001b[34m|\u001b[m\u001b[35m\\\u001b[m  \n",
            "\u001b[34m|\u001b[m * \u001b[1;31m4a0cbd4\u001b[m -\u001b[1;36m (task-1)\u001b[m \u001b[30mnew test snippet\u001b[m \u001b[32m(3 hours ago)\u001b[m \u001b[1;34m<AlexChanin>\u001b[m\n",
            "* \u001b[35m|\u001b[m \u001b[1;31m876519c\u001b[m -\u001b[1;36m\u001b[m \u001b[30mAdded second file Hello\u001b[m \u001b[32m(65 minutes ago)\u001b[m \u001b[1;34m<AlexChanin>\u001b[m\n",
            "\u001b[35m|\u001b[m\u001b[35m/\u001b[m  \n",
            "* \u001b[1;31mba48ec8\u001b[m -\u001b[1;36m\u001b[m \u001b[30mDeleted 2 files\u001b[m \u001b[32m(5 hours ago)\u001b[m \u001b[1;34m<AlexChanin>\u001b[m\n",
            "* \u001b[1;31m54d2376\u001b[m -\u001b[1;36m\u001b[m \u001b[30mAdd 2 file and modified the first one\u001b[m \u001b[32m(5 hours ago)\u001b[m \u001b[1;34m<AlexChanin>\u001b[m\n",
            "* \u001b[1;31mc05a9ba\u001b[m -\u001b[1;36m\u001b[m \u001b[30mmessage_1\u001b[m \u001b[32m(6 hours ago)\u001b[m \u001b[1;34m<AlexChanin>\u001b[m"
          ],
          "name": "stdout"
        }
      ]
    },
    {
      "cell_type": "code",
      "metadata": {
        "colab": {
          "base_uri": "https://localhost:8080/"
        },
        "id": "9bVnkH910vJf",
        "outputId": "1b777939-387f-41fc-fc21-53a7220697a8"
      },
      "source": [
        "# Switch to commit 13a88c1\n",
        "!git checkout 13a88c1"
      ],
      "execution_count": null,
      "outputs": [
        {
          "output_type": "stream",
          "text": [
            "Note: checking out '13a88c1'.\n",
            "\n",
            "You are in 'detached HEAD' state. You can look around, make experimental\n",
            "changes and commit them, and you can discard any commits you make in this\n",
            "state without impacting any branches by performing another checkout.\n",
            "\n",
            "If you want to create a new branch to retain commits you create, you may\n",
            "do so (now or later) by using -b with the checkout command again. Example:\n",
            "\n",
            "  git checkout -b <new-branch-name>\n",
            "\n",
            "HEAD is now at 13a88c1 Bye\n"
          ],
          "name": "stdout"
        }
      ]
    },
    {
      "cell_type": "code",
      "metadata": {
        "colab": {
          "base_uri": "https://localhost:8080/"
        },
        "id": "aSUwEx5c080u",
        "outputId": "905dcbd2-4dba-4e0b-9eb2-f76bbf3bd053"
      },
      "source": [
        "# Create new branch\n",
        "!git checkout -b bye-rus"
      ],
      "execution_count": null,
      "outputs": [
        {
          "output_type": "stream",
          "text": [
            "Switched to a new branch 'bye-rus'\n"
          ],
          "name": "stdout"
        }
      ]
    },
    {
      "cell_type": "code",
      "metadata": {
        "colab": {
          "base_uri": "https://localhost:8080/"
        },
        "id": "57nkqlg51HOD",
        "outputId": "4417645f-f009-4fe8-f321-d17b09b2d1ba"
      },
      "source": [
        "%%writefile file.md\n",
        " Пока-Пока!!!\n",
        " New task-2 branch."
      ],
      "execution_count": null,
      "outputs": [
        {
          "output_type": "stream",
          "text": [
            "Overwriting file.md\n"
          ],
          "name": "stdout"
        }
      ]
    },
    {
      "cell_type": "code",
      "metadata": {
        "colab": {
          "base_uri": "https://localhost:8080/"
        },
        "id": "0X1fksGi1PPW",
        "outputId": "0c840161-d1bb-4858-a5af-de1990408e66"
      },
      "source": [
        "!git commit -a -m 'Bye-Rus!!!'"
      ],
      "execution_count": null,
      "outputs": [
        {
          "output_type": "stream",
          "text": [
            "[bye-rus 97bc2d3] Bye-Rus!!!\n",
            " 1 file changed, 1 insertion(+), 1 deletion(-)\n"
          ],
          "name": "stdout"
        }
      ]
    },
    {
      "cell_type": "code",
      "metadata": {
        "colab": {
          "base_uri": "https://localhost:8080/"
        },
        "id": "tEEBrOiZ1V46",
        "outputId": "7d31db67-e0dc-48d5-f007-0f9aa48dd1b4"
      },
      "source": [
        "!git lg1 --all"
      ],
      "execution_count": null,
      "outputs": [
        {
          "output_type": "stream",
          "text": [
            "* \u001b[1;31m97bc2d3\u001b[m -\u001b[1;36m (HEAD -> bye-rus)\u001b[m \u001b[30mBye-Rus!!!\u001b[m \u001b[32m(26 seconds ago)\u001b[m \u001b[1;34m<AlexChanin>\u001b[m\n",
            "\u001b[31m|\u001b[m * \u001b[1;31m604c576\u001b[m -\u001b[1;36m (master)\u001b[m \u001b[30mBye!!!\u001b[m \u001b[32m(3 minutes ago)\u001b[m \u001b[1;34m<AlexChanin>\u001b[m\n",
            "\u001b[31m|\u001b[m\u001b[31m/\u001b[m  \n",
            "*   \u001b[1;31m13a88c1\u001b[m -\u001b[1;36m\u001b[m \u001b[30mBye\u001b[m \u001b[32m(8 minutes ago)\u001b[m \u001b[1;34m<AlexChanin>\u001b[m\n",
            "\u001b[33m|\u001b[m\u001b[34m\\\u001b[m  \n",
            "\u001b[33m|\u001b[m * \u001b[1;31md58614f\u001b[m -\u001b[1;36m (engtitle)\u001b[m \u001b[30mSuperTitle in English\u001b[m \u001b[32m(16 minutes ago)\u001b[m \u001b[1;34m<AlexChanin>\u001b[m\n",
            "* \u001b[34m|\u001b[m \u001b[1;31mbe558f0\u001b[m -\u001b[1;36m\u001b[m \u001b[30mTitle in Russian\u001b[m \u001b[32m(22 minutes ago)\u001b[m \u001b[1;34m<AlexChanin>\u001b[m\n",
            "\u001b[34m|\u001b[m\u001b[34m/\u001b[m  \n",
            "* \u001b[1;31m5fefbec\u001b[m -\u001b[1;36m (task-2)\u001b[m \u001b[30mRenamed branch to task-2 in file.md\u001b[m \u001b[32m(46 minutes ago)\u001b[m \u001b[1;34m<AlexChanin>\u001b[m\n",
            "*   \u001b[1;31mc96df36\u001b[m -\u001b[1;36m\u001b[m \u001b[30mFinished #task-1\u001b[m \u001b[32m(56 minutes ago)\u001b[m \u001b[1;34m<AlexChanin>\u001b[m\n",
            "\u001b[35m|\u001b[m\u001b[36m\\\u001b[m  \n",
            "\u001b[35m|\u001b[m * \u001b[1;31m4a0cbd4\u001b[m -\u001b[1;36m (task-1)\u001b[m \u001b[30mnew test snippet\u001b[m \u001b[32m(3 hours ago)\u001b[m \u001b[1;34m<AlexChanin>\u001b[m\n",
            "* \u001b[36m|\u001b[m \u001b[1;31m876519c\u001b[m -\u001b[1;36m\u001b[m \u001b[30mAdded second file Hello\u001b[m \u001b[32m(68 minutes ago)\u001b[m \u001b[1;34m<AlexChanin>\u001b[m\n",
            "\u001b[36m|\u001b[m\u001b[36m/\u001b[m  \n",
            "* \u001b[1;31mba48ec8\u001b[m -\u001b[1;36m\u001b[m \u001b[30mDeleted 2 files\u001b[m \u001b[32m(5 hours ago)\u001b[m \u001b[1;34m<AlexChanin>\u001b[m\n",
            "* \u001b[1;31m54d2376\u001b[m -\u001b[1;36m\u001b[m \u001b[30mAdd 2 file and modified the first one\u001b[m \u001b[32m(5 hours ago)\u001b[m \u001b[1;34m<AlexChanin>\u001b[m\n",
            "* \u001b[1;31mc05a9ba\u001b[m -\u001b[1;36m\u001b[m \u001b[30mmessage_1\u001b[m \u001b[32m(6 hours ago)\u001b[m \u001b[1;34m<AlexChanin>\u001b[m"
          ],
          "name": "stdout"
        }
      ]
    },
    {
      "cell_type": "code",
      "metadata": {
        "colab": {
          "base_uri": "https://localhost:8080/"
        },
        "id": "HtQYYsTV1cTA",
        "outputId": "a6173e42-5eb5-4fac-c1f5-c8c48126f427"
      },
      "source": [
        "!git checkout master"
      ],
      "execution_count": null,
      "outputs": [
        {
          "output_type": "stream",
          "text": [
            "Switched to branch 'master'\n"
          ],
          "name": "stdout"
        }
      ]
    },
    {
      "cell_type": "code",
      "metadata": {
        "colab": {
          "base_uri": "https://localhost:8080/"
        },
        "id": "ZREgaTno1rPD",
        "outputId": "46bd968a-22ab-45f4-bb1f-322791f1dc38"
      },
      "source": [
        "!git rebase bye-rus"
      ],
      "execution_count": null,
      "outputs": [
        {
          "output_type": "stream",
          "text": [
            "First, rewinding head to replay your work on top of it...\n",
            "Applying: Bye!!!\n",
            "Using index info to reconstruct a base tree...\n",
            "M\tfile.md\n",
            "Falling back to patching base and 3-way merge...\n",
            "Auto-merging file.md\n",
            "CONFLICT (content): Merge conflict in file.md\n",
            "error: Failed to merge in the changes.\n",
            "Patch failed at 0001 Bye!!!\n",
            "Use 'git am --show-current-patch' to see the failed patch\n",
            "\n",
            "Resolve all conflicts manually, mark them as resolved with\n",
            "\"git add/rm <conflicted_files>\", then run \"git rebase --continue\".\n",
            "You can instead skip this commit: run \"git rebase --skip\".\n",
            "To abort and get back to the state before \"git rebase\", run \"git rebase --abort\".\n",
            "\n"
          ],
          "name": "stdout"
        }
      ]
    },
    {
      "cell_type": "markdown",
      "metadata": {
        "id": "iQAPVsh_3jsn"
      },
      "source": [
        "Три пути разрешения. Решить конфликт в файое вручную, также можно пропустить данный патч, введя git rebase с флагом skip и убрать какие-то правки. А также можно сделать git rebase с флагом abort, чтобы отменить перепостроение"
      ]
    },
    {
      "cell_type": "code",
      "metadata": {
        "colab": {
          "base_uri": "https://localhost:8080/"
        },
        "id": "ghM6QgKR1wHH",
        "outputId": "46ac5ed2-9004-4a87-b2d4-25f99cff8c72"
      },
      "source": [
        "!git am --show-current-patch"
      ],
      "execution_count": null,
      "outputs": [
        {
          "output_type": "stream",
          "text": [
            "\u001b[33mcommit 604c5764dffbfcb32bd06e0144ecb08f89ffd1b7\u001b[m\u001b[33m (\u001b[m\u001b[1;32mmaster\u001b[m\u001b[33m)\u001b[m\n",
            "Author: AlexChanin <web.shore@yahoo.com>\n",
            "Date:   Wed Mar 10 20:27:25 2021 +0000\n",
            "\n",
            "    Bye!!!\n",
            "\n",
            "\u001b[1mdiff --git a/file.md b/file.md\u001b[m\n",
            "\u001b[1mindex 7f2a402..87f0e73 100644\u001b[m\n",
            "\u001b[1m--- a/file.md\u001b[m\n",
            "\u001b[1m+++ b/file.md\u001b[m\n",
            "\u001b[36m@@ -1,2 +1,2 @@\u001b[m\n",
            "\u001b[31m- Bye-bye!\u001b[m\n",
            "\u001b[32m+\u001b[m\u001b[32m Bye-bye!!!\u001b[m\n",
            "  New task-2 branch.\u001b[m\n",
            "\\ No newline at end of file\u001b[m\n"
          ],
          "name": "stdout"
        }
      ]
    },
    {
      "cell_type": "code",
      "metadata": {
        "colab": {
          "base_uri": "https://localhost:8080/"
        },
        "id": "jNz-kuNH2d3e",
        "outputId": "d6c3b907-8ed1-4265-da35-b9f061e9a4fa"
      },
      "source": [
        "!git lg1 --all"
      ],
      "execution_count": null,
      "outputs": [
        {
          "output_type": "stream",
          "text": [
            "* \u001b[1;31m97bc2d3\u001b[m -\u001b[1;36m (HEAD, bye-rus)\u001b[m \u001b[30mBye-Rus!!!\u001b[m \u001b[32m(15 minutes ago)\u001b[m \u001b[1;34m<AlexChanin>\u001b[m\n",
            "\u001b[31m|\u001b[m * \u001b[1;31m604c576\u001b[m -\u001b[1;36m (master)\u001b[m \u001b[30mBye!!!\u001b[m \u001b[32m(18 minutes ago)\u001b[m \u001b[1;34m<AlexChanin>\u001b[m\n",
            "\u001b[31m|\u001b[m\u001b[31m/\u001b[m  \n",
            "*   \u001b[1;31m13a88c1\u001b[m -\u001b[1;36m\u001b[m \u001b[30mBye\u001b[m \u001b[32m(22 minutes ago)\u001b[m \u001b[1;34m<AlexChanin>\u001b[m\n",
            "\u001b[33m|\u001b[m\u001b[34m\\\u001b[m  \n",
            "\u001b[33m|\u001b[m * \u001b[1;31md58614f\u001b[m -\u001b[1;36m (engtitle)\u001b[m \u001b[30mSuperTitle in English\u001b[m \u001b[32m(30 minutes ago)\u001b[m \u001b[1;34m<AlexChanin>\u001b[m\n",
            "* \u001b[34m|\u001b[m \u001b[1;31mbe558f0\u001b[m -\u001b[1;36m\u001b[m \u001b[30mTitle in Russian\u001b[m \u001b[32m(36 minutes ago)\u001b[m \u001b[1;34m<AlexChanin>\u001b[m\n",
            "\u001b[34m|\u001b[m\u001b[34m/\u001b[m  \n",
            "* \u001b[1;31m5fefbec\u001b[m -\u001b[1;36m (task-2)\u001b[m \u001b[30mRenamed branch to task-2 in file.md\u001b[m \u001b[32m(60 minutes ago)\u001b[m \u001b[1;34m<AlexChanin>\u001b[m\n",
            "*   \u001b[1;31mc96df36\u001b[m -\u001b[1;36m\u001b[m \u001b[30mFinished #task-1\u001b[m \u001b[32m(70 minutes ago)\u001b[m \u001b[1;34m<AlexChanin>\u001b[m\n",
            "\u001b[35m|\u001b[m\u001b[36m\\\u001b[m  \n",
            "\u001b[35m|\u001b[m * \u001b[1;31m4a0cbd4\u001b[m -\u001b[1;36m (task-1)\u001b[m \u001b[30mnew test snippet\u001b[m \u001b[32m(4 hours ago)\u001b[m \u001b[1;34m<AlexChanin>\u001b[m\n",
            "* \u001b[36m|\u001b[m \u001b[1;31m876519c\u001b[m -\u001b[1;36m\u001b[m \u001b[30mAdded second file Hello\u001b[m \u001b[32m(82 minutes ago)\u001b[m \u001b[1;34m<AlexChanin>\u001b[m\n",
            "\u001b[36m|\u001b[m\u001b[36m/\u001b[m  \n",
            "* \u001b[1;31mba48ec8\u001b[m -\u001b[1;36m\u001b[m \u001b[30mDeleted 2 files\u001b[m \u001b[32m(5 hours ago)\u001b[m \u001b[1;34m<AlexChanin>\u001b[m\n",
            "* \u001b[1;31m54d2376\u001b[m -\u001b[1;36m\u001b[m \u001b[30mAdd 2 file and modified the first one\u001b[m \u001b[32m(5 hours ago)\u001b[m \u001b[1;34m<AlexChanin>\u001b[m\n",
            "* \u001b[1;31mc05a9ba\u001b[m -\u001b[1;36m\u001b[m \u001b[30mmessage_1\u001b[m \u001b[32m(6 hours ago)\u001b[m \u001b[1;34m<AlexChanin>\u001b[m"
          ],
          "name": "stdout"
        }
      ]
    },
    {
      "cell_type": "code",
      "metadata": {
        "colab": {
          "base_uri": "https://localhost:8080/"
        },
        "id": "m6jTZZEN4rJD",
        "outputId": "e69a9a0b-5837-484e-cc79-f7ab2510878d"
      },
      "source": [
        "!cat file.md"
      ],
      "execution_count": null,
      "outputs": [
        {
          "output_type": "stream",
          "text": [
            "<<<<<<< HEAD\n",
            " Пока-Пока!!!\n",
            "=======\n",
            " Bye-bye!!!\n",
            ">>>>>>> Bye!!!\n",
            " New task-2 branch."
          ],
          "name": "stdout"
        }
      ]
    },
    {
      "cell_type": "code",
      "metadata": {
        "colab": {
          "base_uri": "https://localhost:8080/"
        },
        "id": "OgIVSk0f4uky",
        "outputId": "6dc7ed32-a870-4ce1-da3b-dd4b79ecc951"
      },
      "source": [
        " %%writefile file.md\n",
        " Привет мир\n",
        " New task-2 branch."
      ],
      "execution_count": null,
      "outputs": [
        {
          "output_type": "stream",
          "text": [
            "Overwriting file.md\n"
          ],
          "name": "stdout"
        }
      ]
    },
    {
      "cell_type": "code",
      "metadata": {
        "colab": {
          "base_uri": "https://localhost:8080/"
        },
        "id": "Ra0l5CTw5szq",
        "outputId": "58c5996a-a8e7-4405-a68e-2654ec9a4999"
      },
      "source": [
        "!git rebase --continue"
      ],
      "execution_count": null,
      "outputs": [
        {
          "output_type": "stream",
          "text": [
            "file.md: needs merge\n",
            "You must edit all merge conflicts and then\n",
            "mark them as resolved using git add\n"
          ],
          "name": "stdout"
        }
      ]
    },
    {
      "cell_type": "code",
      "metadata": {
        "id": "A8opfMzd52-E"
      },
      "source": [
        "!git add file.md"
      ],
      "execution_count": null,
      "outputs": []
    },
    {
      "cell_type": "code",
      "metadata": {
        "colab": {
          "base_uri": "https://localhost:8080/"
        },
        "id": "IqH5BsW26BEb",
        "outputId": "161f93b7-d132-4b1d-bb77-9dbda9fe4c8f"
      },
      "source": [
        "!git rebase --continue"
      ],
      "execution_count": null,
      "outputs": [
        {
          "output_type": "stream",
          "text": [
            "Applying: Bye!!!\n"
          ],
          "name": "stdout"
        }
      ]
    },
    {
      "cell_type": "code",
      "metadata": {
        "colab": {
          "base_uri": "https://localhost:8080/"
        },
        "id": "R4bbyto76C07",
        "outputId": "d04396eb-f1c5-4dc4-8542-8260be9fecdd"
      },
      "source": [
        "!cat file.md"
      ],
      "execution_count": null,
      "outputs": [
        {
          "output_type": "stream",
          "text": [
            "Привет мир\n",
            "New task-2 branch."
          ],
          "name": "stdout"
        }
      ]
    },
    {
      "cell_type": "code",
      "metadata": {
        "colab": {
          "base_uri": "https://localhost:8080/"
        },
        "id": "Ku3Dsslh6IjQ",
        "outputId": "ae2b4d5f-75cc-4ffb-ab39-b0c8c53e3309"
      },
      "source": [
        "!git status"
      ],
      "execution_count": null,
      "outputs": [
        {
          "output_type": "stream",
          "text": [
            "On branch master\n",
            "nothing to commit, working tree clean\n"
          ],
          "name": "stdout"
        }
      ]
    },
    {
      "cell_type": "code",
      "metadata": {
        "colab": {
          "base_uri": "https://localhost:8080/"
        },
        "id": "2opwea7T6QbZ",
        "outputId": "1e0346db-051f-4921-a86d-3cbfbbd7c515"
      },
      "source": [
        "!git lg1 --all"
      ],
      "execution_count": null,
      "outputs": [
        {
          "output_type": "stream",
          "text": [
            "* \u001b[1;31me0f76d0\u001b[m -\u001b[1;36m (HEAD -> master)\u001b[m \u001b[30mBye!!!\u001b[m \u001b[32m(75 seconds ago)\u001b[m \u001b[1;34m<AlexChanin>\u001b[m\n",
            "* \u001b[1;31m97bc2d3\u001b[m -\u001b[1;36m (bye-rus)\u001b[m \u001b[30mBye-Rus!!!\u001b[m \u001b[32m(22 minutes ago)\u001b[m \u001b[1;34m<AlexChanin>\u001b[m\n",
            "*   \u001b[1;31m13a88c1\u001b[m -\u001b[1;36m\u001b[m \u001b[30mBye\u001b[m \u001b[32m(30 minutes ago)\u001b[m \u001b[1;34m<AlexChanin>\u001b[m\n",
            "\u001b[32m|\u001b[m\u001b[33m\\\u001b[m  \n",
            "\u001b[32m|\u001b[m * \u001b[1;31md58614f\u001b[m -\u001b[1;36m (engtitle)\u001b[m \u001b[30mSuperTitle in English\u001b[m \u001b[32m(37 minutes ago)\u001b[m \u001b[1;34m<AlexChanin>\u001b[m\n",
            "* \u001b[33m|\u001b[m \u001b[1;31mbe558f0\u001b[m -\u001b[1;36m\u001b[m \u001b[30mTitle in Russian\u001b[m \u001b[32m(43 minutes ago)\u001b[m \u001b[1;34m<AlexChanin>\u001b[m\n",
            "\u001b[33m|\u001b[m\u001b[33m/\u001b[m  \n",
            "* \u001b[1;31m5fefbec\u001b[m -\u001b[1;36m (task-2)\u001b[m \u001b[30mRenamed branch to task-2 in file.md\u001b[m \u001b[32m(68 minutes ago)\u001b[m \u001b[1;34m<AlexChanin>\u001b[m\n",
            "*   \u001b[1;31mc96df36\u001b[m -\u001b[1;36m\u001b[m \u001b[30mFinished #task-1\u001b[m \u001b[32m(77 minutes ago)\u001b[m \u001b[1;34m<AlexChanin>\u001b[m\n",
            "\u001b[34m|\u001b[m\u001b[35m\\\u001b[m  \n",
            "\u001b[34m|\u001b[m * \u001b[1;31m4a0cbd4\u001b[m -\u001b[1;36m (task-1)\u001b[m \u001b[30mnew test snippet\u001b[m \u001b[32m(4 hours ago)\u001b[m \u001b[1;34m<AlexChanin>\u001b[m\n",
            "* \u001b[35m|\u001b[m \u001b[1;31m876519c\u001b[m -\u001b[1;36m\u001b[m \u001b[30mAdded second file Hello\u001b[m \u001b[32m(89 minutes ago)\u001b[m \u001b[1;34m<AlexChanin>\u001b[m\n",
            "\u001b[35m|\u001b[m\u001b[35m/\u001b[m  \n",
            "* \u001b[1;31mba48ec8\u001b[m -\u001b[1;36m\u001b[m \u001b[30mDeleted 2 files\u001b[m \u001b[32m(5 hours ago)\u001b[m \u001b[1;34m<AlexChanin>\u001b[m\n",
            "* \u001b[1;31m54d2376\u001b[m -\u001b[1;36m\u001b[m \u001b[30mAdd 2 file and modified the first one\u001b[m \u001b[32m(5 hours ago)\u001b[m \u001b[1;34m<AlexChanin>\u001b[m\n",
            "* \u001b[1;31mc05a9ba\u001b[m -\u001b[1;36m\u001b[m \u001b[30mmessage_1\u001b[m \u001b[32m(6 hours ago)\u001b[m \u001b[1;34m<AlexChanin>\u001b[m"
          ],
          "name": "stdout"
        }
      ]
    },
    {
      "cell_type": "code",
      "metadata": {
        "id": "BeuQiGCc6ToY"
      },
      "source": [
        "# На случай если изменили файл, добавили, \n",
        "# а потом надо не только убрать из индекса, но и вернуться в unmodified \n",
        "!git checkout HEAD -- file.md"
      ],
      "execution_count": null,
      "outputs": []
    },
    {
      "cell_type": "markdown",
      "metadata": {
        "id": "cfNaBP3v9cPZ"
      },
      "source": [
        "### Что еще не упомянуто:\n",
        "\n",
        "- stash\n",
        "- cherrypick\n",
        "- rebase interactive\n",
        "- diff\n",
        "- tag\n",
        "- submodules\n",
        "\n",
        "Это первая часть. Есть еще ролики с remote и workflow.\n",
        "\n",
        "Взято с канала Кувшинова:\n",
        "https://www.youtube.com/watch?v=Wx-7NXNv65k&list=PL7Nh93imVuXyiJKz6YrELUACjXWfAXlwW"
      ]
    },
    {
      "cell_type": "code",
      "metadata": {
        "id": "yWk82e--STZJ"
      },
      "source": [
        "#!git help branch"
      ],
      "execution_count": null,
      "outputs": []
    },
    {
      "cell_type": "code",
      "metadata": {
        "id": "Yx2Nd2DHgAld"
      },
      "source": [
        ""
      ],
      "execution_count": null,
      "outputs": []
    }
  ]
}